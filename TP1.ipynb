{
 "cells": [
  {
   "cell_type": "markdown",
   "metadata": {},
   "source": [
    "<h1 style=\"text-align: center;\" markdown=\"1\">Complex Networks - Practical Session</h1>\n",
    "<h3 style=\"text-align: center;\" markdown=\"1\">by Dimitri Lajou and Fabrice Lebeau</h3>"
   ]
  },
  {
   "cell_type": "markdown",
   "metadata": {},
   "source": [
    "## Introduction\n",
    "In this notebook, we present a (small) graph library that implements some useful function about graphs, e.g. shortest paths, components etc. We then apply some of these functions to the classical Zachary graph and two random graphs with 100 and 1000 nodes.\n",
    "\n",
    "Let us first import the tools we are going to use."
   ]
  },
  {
   "cell_type": "code",
   "execution_count": 3,
   "metadata": {},
   "outputs": [],
   "source": [
    "import numpy\n",
    "import math\n",
    "from parse import parse\n",
    "from IPython.display import Math, Markdown, Latex, display, display_latex, SVG"
   ]
  },
  {
   "cell_type": "markdown",
   "metadata": {},
   "source": [
    "## The Graph class\n",
    "### Basics\n",
    "We consider *undirected* graphs $G=(V,E)$, that we store in an adjacency list (we use a map $V \\rightarrow \\mathcal{P}(V)$ which assign to node $v \\in V$ the list of nodes which are linked to $v$). We begin by adding the functions for defining a graph from a map, for adding vertices/edges and for retrieving the set of edges and vertices of the G. Other functions are presented in the rest of this notebook.\n",
    "\n",
    "We also define static methods `clique` and `no_edges` which respectively returns an instance of Graph corresponding to a clique of the desired size and a completely disconnected graph with given number of nodes. These examples will come handy for debugging."
   ]
  },
  {
   "cell_type": "code",
   "execution_count": 4,
   "metadata": {
    "collapsed": true
   },
   "outputs": [],
   "source": [
    "\"\"\" CR15 graph library \"\"\"\n",
    "class Graph(object):\n",
    "\n",
    "    def __init__(self, graph_dict={}):\n",
    "        \"\"\" initializes a graph object \"\"\"\n",
    "        self.__graph_dict = graph_dict.copy()\n",
    "\n",
    "    def vertices(self):\n",
    "        \"\"\" returns the vertices of a graph \"\"\"\n",
    "        return list(self.__graph_dict.keys())\n",
    "\n",
    "    def edges(self):\n",
    "        \"\"\" returns the edges of a graph \"\"\"\n",
    "        return self.__generate_edges()\n",
    "    \n",
    "    def connected_components(self):\n",
    "        return self.__generate_components()\n",
    "\n",
    "    def add_vertex(self, vertex):\n",
    "        \"\"\" If vertex is not in self.__graph_dict, a key \"vertex\" with an empty\n",
    "        list as a value is added to the dictionary. Otherwise nothing has to be \n",
    "        done. To complete.\"\"\"\n",
    "        if not vertex in self.__graph_dict:\n",
    "            self.__graph_dict[vertex] = []\n",
    "        \n",
    "\n",
    "    def add_edge(self, edge):\n",
    "        \"\"\" assumes that edge is of type set, tuple or list. No loops or \n",
    "        multiple edges. To complete.\"\"\"\n",
    "        my_edge = list(edge)\n",
    "        if len(my_edge) != 2: raise WrongSizeForEdge()\n",
    "        u = edge.pop()\n",
    "        v = edge.pop()\n",
    "        if u in self.__graph_dict and v in self.__graph_dict:\n",
    "            if u != v:\n",
    "                if v not in self.__graph_dict[u]:\n",
    "                    self.__graph_dict[u].append(v)\n",
    "                if u not in self.__graph_dict[v]:\n",
    "                    self.__graph_dict[v].append(u)\n",
    "        else:\n",
    "            raise VerticesNotDecleared()\n",
    "            \n",
    "\n",
    "    def __generate_edges(self):\n",
    "        \"\"\" A static method generating the edges of the graph \"graph\". Edges \n",
    "        are represented as sets two vertices, with no loops. To complete.\"\"\"\n",
    "        edges = []\n",
    "        for v, edges_list in self.__graph_dict.items():\n",
    "            for u in edges_list:\n",
    "                if v < u:\n",
    "                    edges.append(set([v,u]))\n",
    "        return edges\n",
    "    \n",
    "    def vertex_degrees(self):\n",
    "        \"\"\"Return a dictionary degree\"\"\"\n",
    "        degrees = {}\n",
    "        for v, edges_list in self.__graph_dict.items():\n",
    "            degrees[v] = len(edges_list)\n",
    "        return degrees\n",
    "    \n",
    "    def vertex_degree(self, vertex):\n",
    "        \"\"\"Return a dictionary degree\"\"\"\n",
    "        return len(self.__graph_dict[vertex])\n",
    "    \n",
    "    def find_isolated_vertices(self):\n",
    "        zero_set = set()\n",
    "        for v, edges_list in self.__graph_dict.items():\n",
    "            if len(edges_list) == 0:\n",
    "                zero_set.add(v)\n",
    "        return zero_set\n",
    "                \n",
    "    def density(self):\n",
    "        deg = self.vertex_degrees()\n",
    "        density = 0\n",
    "        for v, d in deg.items():\n",
    "            density += d\n",
    "        density /=  (len(deg) -1) *len(deg)\n",
    "        return density\n",
    "                    \n",
    "    def dict(self):\n",
    "        return self.__graph_dict\n",
    "    \n",
    "    def degree_sequence(self):\n",
    "        deg = self.vertex_degrees()\n",
    "        deg_list = [v for v in deg.values()]\n",
    "        deg_list.sort(reverse=True)\n",
    "        return tuple(deg_list)\n",
    "    \n",
    "    @staticmethod\n",
    "    def erdos_gallai(deg_seq):\n",
    "        #deg_seq = self.degree_sequence()\n",
    "        even_number = 0\n",
    "        for v in deg_seq:\n",
    "            even_number += v\n",
    "        if even_number % 2 == 1 :\n",
    "            return False\n",
    "        sumOfdi = 0\n",
    "        for k in range(len(deg_seq)):\n",
    "            sumOfdi += deg_seq[k]\n",
    "            sumOfMin = k*(k+1)\n",
    "            for i in range(k, len(deg_seq)):\n",
    "                sumOfMin += min(deg_seq[i], k+1)\n",
    "            if sumOfMin < sumOfdi:\n",
    "                return False\n",
    "        return True\n",
    "    \n",
    "    def global_clustering_coefficient(self):\n",
    "        triangle = 0\n",
    "        triplet = 0\n",
    "        for v in self.__graph_dict:\n",
    "            for u in self.__graph_dict[v]:\n",
    "                for w in self.__graph_dict[v]:\n",
    "                    if u != w: \n",
    "                        triplet += 1\n",
    "                    if u != w and w in self.__graph_dict[u]:\n",
    "                        triangle += 1\n",
    "        return triangle / triplet\n",
    "    \n",
    "    \"\"\" Graph traversal \"\"\"\n",
    "    def components_BFS(self, vertices, comps, base_vertice):\n",
    "        if not vertices:\n",
    "            return\n",
    "        new_vertices = []\n",
    "        for v in vertices:\n",
    "            comps[v] = base_vertice\n",
    "            for u in self.__graph_dict[v]:\n",
    "                if comps[u] == u and u != base_vertice:\n",
    "                    new_vertices.append(u)\n",
    "        self.components_BFS(new_vertices, comps, base_vertice)\n",
    "    \n",
    "    def __generate_components(self):\n",
    "        comps = {}\n",
    "        for u in self.__graph_dict:\n",
    "            comps[u] = u\n",
    "        for u in self.__graph_dict:\n",
    "            if comps[u] == u:\n",
    "                self.components_BFS([u], comps, u)\n",
    "        return comps\n",
    "    \n",
    "    def shortest_path_BFS(self, vertices, seen, d, goal):\n",
    "        if not vertices:\n",
    "            return math.inf\n",
    "        if goal in vertices:\n",
    "            return d\n",
    "        new_vertices = set()\n",
    "        for v in vertices:\n",
    "            seen.add(v)\n",
    "        for v in vertices:\n",
    "            for u in self.__graph_dict[v]:\n",
    "                if u not in seen:\n",
    "                    new_vertices.add(u)\n",
    "        return self.shortest_path_BFS(new_vertices, seen, d+1, goal)\n",
    "    \n",
    "    def shortest_path(self, s, t):\n",
    "        return self.shortest_path_BFS({s}, set(), 0, t)\n",
    "    \n",
    "    def diameter(self):\n",
    "        diam = 0\n",
    "        for u in self.__graph_dict:\n",
    "            for v in self.__graph_dict:\n",
    "                if u<v:\n",
    "                    l = self.shortest_path(u,v)\n",
    "                    if l>diam:\n",
    "                        diam = l\n",
    "        return diam\n",
    "    \n",
    "    def diameter_component(self, u):\n",
    "        \"\"\" Return the diameter of the component containing vertex u \"\"\"\n",
    "        # First get the component of u\n",
    "        component = set()\n",
    "        comps = self.connected_components()\n",
    "        for v in self.__graph_dict:\n",
    "            if comps[u] == comps[v]:\n",
    "                component.add(v)\n",
    "        diam = 0\n",
    "        for v in component:\n",
    "            for w in component:\n",
    "                if v<w:\n",
    "                    l = self.shortest_path(v,w)\n",
    "                    if l>diam:\n",
    "                        diam = l\n",
    "        return diam\n",
    "    \n",
    "    def biggest_component_diameter(self):\n",
    "        if not self.vertices(): return 0\n",
    "        \n",
    "        # First determine the biggest component #\n",
    "        comps = self.connected_components()\n",
    "        comps_size = {}\n",
    "        for u in comps.values():\n",
    "            comps_size[u] = 0\n",
    "        for v,u in comps.items():\n",
    "            comps_size[u] += 1\n",
    "        biggest = tuple(comps.values())[0]\n",
    "        max_size = comps_size[biggest]\n",
    "        for u in comps.values():\n",
    "            if comps_size[u] > max_size:\n",
    "                max_size = comps_size[u]\n",
    "                biggest = u\n",
    "        \n",
    "        # Return the diameter of the corresponding component\n",
    "        return self.diameter_component(biggest)\n",
    "        \n",
    "    def spanning_tree(self):\n",
    "        queue = []\n",
    "        tree = []\n",
    "        # Hack to get one key in the dict\n",
    "        for v in self.__graph_dict:\n",
    "            queue.append(v)\n",
    "            break\n",
    "        seen = [queue[-1]]\n",
    "\n",
    "        while queue:\n",
    "            u = queue.pop()\n",
    "            for v in self.__graph_dict[u]:\n",
    "                if not v in seen:\n",
    "                    tree.append(set([u,v]))\n",
    "                    seen.append(v)\n",
    "                    queue.append(v)\n",
    "        return tree\n",
    "        \n",
    "    \"\"\" Static methods for defining classical graphs \"\"\"\n",
    "    @staticmethod\n",
    "    def clique(n):\n",
    "        d = {}\n",
    "        s = set(i+1 for i in range(n))\n",
    "        for i in range(n):\n",
    "            d[i+1] = s.difference(set({i+1}))\n",
    "        return Graph(d)\n",
    "    \n",
    "    @staticmethod\n",
    "    def no_edges(n):\n",
    "        d = {}\n",
    "        for i in range(n):\n",
    "            d[i+1] = []\n",
    "        return Graph(d)\n",
    "\n",
    "    \"\"\" Importing from a text file \"\"\"\n",
    "    @staticmethod\n",
    "    def from_txt(file):\n",
    "        G = Graph()\n",
    "        lines = open(file).readlines()\n",
    "        for l in lines:\n",
    "            p = parse('{:d}\\t{:d}', l)\n",
    "            G.add_vertex(p[0])\n",
    "            G.add_vertex(p[1])\n",
    "            G.add_edge({p[0],p[1]})\n",
    "        return G"
   ]
  },
  {
   "cell_type": "markdown",
   "metadata": {},
   "source": [
    "### Example\n",
    "Let us define a small example graph $G$ that we are going to use for testing our implementation."
   ]
  },
  {
   "cell_type": "code",
   "execution_count": 50,
   "metadata": {
    "scrolled": false
   },
   "outputs": [
    {
     "data": {
      "image/svg+xml": [
       "<svg height=\"72.620743mm\" id=\"svg8\" inkscape:version=\"0.92.2 5c3e80d, 2017-08-06\" sodipodi:docname=\"small_example.svg\" version=\"1.1\" viewBox=\"0 0 85.566342 72.620743\" width=\"85.566345mm\" xmlns=\"http://www.w3.org/2000/svg\" xmlns:cc=\"http://creativecommons.org/ns#\" xmlns:dc=\"http://purl.org/dc/elements/1.1/\" xmlns:inkscape=\"http://www.inkscape.org/namespaces/inkscape\" xmlns:rdf=\"http://www.w3.org/1999/02/22-rdf-syntax-ns#\" xmlns:sodipodi=\"http://sodipodi.sourceforge.net/DTD/sodipodi-0.dtd\" xmlns:svg=\"http://www.w3.org/2000/svg\">\n",
       "  <defs id=\"defs2\"/>\n",
       "  <sodipodi:namedview bordercolor=\"#666666\" borderopacity=\"1.0\" id=\"base\" inkscape:current-layer=\"layer2\" inkscape:cx=\"274.21531\" inkscape:cy=\"134.01288\" inkscape:document-units=\"mm\" inkscape:pageopacity=\"0.0\" inkscape:pageshadow=\"2\" inkscape:window-height=\"1027\" inkscape:window-maximized=\"1\" inkscape:window-width=\"1920\" inkscape:window-x=\"0\" inkscape:window-y=\"0\" inkscape:zoom=\"1.979899\" pagecolor=\"#ffffff\" showgrid=\"false\"/>\n",
       "  <metadata id=\"metadata5\">\n",
       "    <rdf:RDF>\n",
       "      <cc:Work rdf:about=\"\">\n",
       "        <dc:format>image/svg+xml</dc:format>\n",
       "        <dc:type rdf:resource=\"http://purl.org/dc/dcmitype/StillImage\"/>\n",
       "        <dc:title/>\n",
       "      </cc:Work>\n",
       "    </rdf:RDF>\n",
       "  </metadata>\n",
       "  <g id=\"layer2\" inkscape:groupmode=\"layer\" inkscape:label=\"Lines\" style=\"display:inline\" transform=\"translate(-52.515243,-14.015728)\">\n",
       "    <path d=\"M 96.950891,27.313988 C 92.0372,49.047619 92.0372,49.047619 92.0372,49.047619\" id=\"path4865\" inkscape:connector-curvature=\"0\" style=\"fill:none;fill-rule:evenodd;stroke:#000000;stroke-width:0.465;stroke-linecap:butt;stroke-linejoin:miter;stroke-miterlimit:4;stroke-dasharray:none;stroke-opacity:1\"/>\n",
       "    <path d=\"m 101.67559,25.04613 26.26935,24.190476\" id=\"path4867\" inkscape:connector-curvature=\"0\" style=\"fill:none;fill-rule:evenodd;stroke:#000000;stroke-width:0.465;stroke-linecap:butt;stroke-linejoin:miter;stroke-miterlimit:4;stroke-dasharray:none;stroke-opacity:1\"/>\n",
       "    <path d=\"m 100.35268,21.07738 25.51339,0.188989\" id=\"path4869\" inkscape:connector-curvature=\"0\" style=\"fill:none;fill-rule:evenodd;stroke:#000000;stroke-width:0.465;stroke-linecap:butt;stroke-linejoin:miter;stroke-miterlimit:4;stroke-dasharray:none;stroke-opacity:1\"/>\n",
       "    <path d=\"M 62.744048,39.598213 87.879464,52.260415\" id=\"path4871\" inkscape:connector-curvature=\"0\" style=\"fill:none;fill-rule:evenodd;stroke:#000000;stroke-width:0.465;stroke-linecap:butt;stroke-linejoin:miter;stroke-miterlimit:4;stroke-dasharray:none;stroke-opacity:1\"/>\n",
       "    <path d=\"m 59.153273,43.566963 1.511904,20.97768\" id=\"path4873\" inkscape:connector-curvature=\"0\" style=\"fill:none;fill-rule:evenodd;stroke:#000000;stroke-width:0.465;stroke-linecap:butt;stroke-linejoin:miter;stroke-miterlimit:4;stroke-dasharray:none;stroke-opacity:1\"/>\n",
       "    <path d=\"M 66.145832,67.757439 89.202381,56.607143\" id=\"path4875\" inkscape:connector-curvature=\"0\" style=\"fill:none;fill-rule:evenodd;stroke:#000000;stroke-width:0.465;stroke-linecap:butt;stroke-linejoin:miter;stroke-miterlimit:4;stroke-dasharray:none;stroke-opacity:1\"/>\n",
       "    <path d=\"M 94.494047,52.449404 126.24405,52.82738\" id=\"path4877\" inkscape:connector-curvature=\"0\" style=\"fill:none;fill-rule:evenodd;stroke:#000000;stroke-width:0.465;stroke-linecap:butt;stroke-linejoin:miter;stroke-miterlimit:4;stroke-dasharray:none;stroke-opacity:1\"/>\n",
       "    <path d=\"m 131.34672,24.857142 0.18899,22.300595\" id=\"path4879\" inkscape:connector-curvature=\"0\" style=\"fill:none;fill-rule:evenodd;stroke:#000000;stroke-width:0.465;stroke-linecap:butt;stroke-linejoin:miter;stroke-miterlimit:4;stroke-dasharray:none;stroke-opacity:1\"/>\n",
       "    <path d=\"M 130.02381,56.040178 V 76.072914\" id=\"path4881\" inkscape:connector-curvature=\"0\" style=\"fill:none;fill-rule:evenodd;stroke:#000000;stroke-width:0.465;stroke-linecap:butt;stroke-linejoin:miter;stroke-miterlimit:4;stroke-dasharray:none;stroke-opacity:1\"/>\n",
       "  </g>\n",
       "  <g id=\"layer1\" inkscape:groupmode=\"layer\" inkscape:label=\"Nodes\" style=\"display:inline\" transform=\"translate(-52.515243,-14.015728)\">\n",
       "    <circle cx=\"91.219513\" cy=\"52.607594\" id=\"path4523\" r=\"6.614583\" style=\"opacity:1;fill:none;fill-opacity:1;fill-rule:nonzero;stroke:#000000;stroke-width:0.465;stroke-linecap:butt;stroke-linejoin:miter;stroke-miterlimit:4;stroke-dasharray:none;stroke-dashoffset:0;stroke-opacity:1\"/>\n",
       "    <g id=\"g4603\" style=\"fill:#ffffff;fill-opacity:1\" transform=\"translate(46.046278,23.434524)\">\n",
       "      <circle cx=\"45.106419\" cy=\"29.173071\" id=\"path4523-3\" r=\"6.6145835\" style=\"opacity:1;fill:#ffffff;fill-opacity:1;fill-rule:nonzero;stroke:#000000;stroke-width:0.465;stroke-linecap:butt;stroke-linejoin:miter;stroke-miterlimit:4;stroke-dasharray:none;stroke-dashoffset:0;stroke-opacity:1\"/>\n",
       "      <text id=\"text4527-6\" style=\"font-style:normal;font-weight:normal;font-size:7.19691706px;line-height:125%;font-family:sans-serif;letter-spacing:0px;word-spacing:0px;fill:#ffffff;fill-opacity:1;stroke:none;stroke-width:0.17992292px;stroke-linecap:butt;stroke-linejoin:miter;stroke-opacity:1\" x=\"43.052185\" xml:space=\"preserve\" y=\"30.958742\"><tspan id=\"tspan4525-7\" sodipodi:role=\"line\" style=\"fill:#ffffff;fill-opacity:1;stroke-width:0.17992292px\" x=\"43.052185\" y=\"37.326328\"/></text>\n",
       "    </g>\n",
       "    <g id=\"g4603-9\" style=\"fill:#ffffff;fill-opacity:1\" transform=\"translate(86.128087,50.616318)\">\n",
       "      <circle cx=\"45.106419\" cy=\"29.173071\" id=\"path4523-3-3\" r=\"6.6145835\" style=\"opacity:1;fill:#ffffff;fill-opacity:1;fill-rule:nonzero;stroke:#000000;stroke-width:0.465;stroke-linecap:butt;stroke-linejoin:miter;stroke-miterlimit:4;stroke-dasharray:none;stroke-dashoffset:0;stroke-opacity:1\"/>\n",
       "      <text id=\"text4527-6-1\" style=\"font-style:normal;font-weight:normal;font-size:7.19691706px;line-height:125%;font-family:sans-serif;letter-spacing:0px;word-spacing:0px;fill:#ffffff;fill-opacity:1;stroke:none;stroke-width:0.17992292px;stroke-linecap:butt;stroke-linejoin:miter;stroke-opacity:1\" x=\"43.052185\" xml:space=\"preserve\" y=\"30.958742\"><tspan id=\"tspan4525-7-9\" sodipodi:role=\"line\" style=\"fill:#ffffff;fill-opacity:1;stroke-width:0.17992292px\" x=\"43.052185\" y=\"37.326328\"/></text>\n",
       "    </g>\n",
       "    <g id=\"g4603-4\" style=\"fill:#ffffff;fill-opacity:1\" transform=\"translate(84.980053,-8.310259)\">\n",
       "      <circle cx=\"45.106419\" cy=\"29.173071\" id=\"path4523-3-5\" r=\"6.6145835\" style=\"opacity:1;fill:#ffffff;fill-opacity:1;fill-rule:nonzero;stroke:#000000;stroke-width:0.465;stroke-linecap:butt;stroke-linejoin:miter;stroke-miterlimit:4;stroke-dasharray:none;stroke-dashoffset:0;stroke-opacity:1\"/>\n",
       "      <text id=\"text4527-6-0\" style=\"font-style:normal;font-weight:normal;font-size:7.19691706px;line-height:125%;font-family:sans-serif;letter-spacing:0px;word-spacing:0px;fill:#ffffff;fill-opacity:1;stroke:none;stroke-width:0.17992292px;stroke-linecap:butt;stroke-linejoin:miter;stroke-opacity:1\" x=\"43.052185\" xml:space=\"preserve\" y=\"30.958742\"><tspan id=\"tspan4525-7-3\" sodipodi:role=\"line\" style=\"fill:#ffffff;fill-opacity:1;stroke-width:0.17992292px\" x=\"43.052185\" y=\"37.326328\"/></text>\n",
       "    </g>\n",
       "    <g id=\"g4603-3\" style=\"fill:#ffffff;fill-opacity:1\" transform=\"translate(16.986541,39.35273)\">\n",
       "      <circle cx=\"45.106419\" cy=\"29.173071\" id=\"path4523-3-2\" r=\"6.6145835\" style=\"opacity:1;fill:#ffffff;fill-opacity:1;fill-rule:nonzero;stroke:#000000;stroke-width:0.465;stroke-linecap:butt;stroke-linejoin:miter;stroke-miterlimit:4;stroke-dasharray:none;stroke-dashoffset:0;stroke-opacity:1\"/>\n",
       "      <text id=\"text4527-6-06\" style=\"font-style:normal;font-weight:normal;font-size:7.19691706px;line-height:125%;font-family:sans-serif;letter-spacing:0px;word-spacing:0px;fill:#ffffff;fill-opacity:1;stroke:none;stroke-width:0.17992292px;stroke-linecap:butt;stroke-linejoin:miter;stroke-opacity:1\" x=\"43.052185\" xml:space=\"preserve\" y=\"30.958742\"><tspan id=\"tspan4525-7-1\" sodipodi:role=\"line\" style=\"fill:#ffffff;fill-opacity:1;stroke-width:0.17992292px\" x=\"43.052185\" y=\"37.326328\"/></text>\n",
       "    </g>\n",
       "    <g id=\"g4603-47\" style=\"fill:#ffffff;fill-opacity:1\" transform=\"translate(85.349764,23.024057)\">\n",
       "      <circle cx=\"45.106419\" cy=\"29.173071\" id=\"path4523-3-6\" r=\"6.6145835\" style=\"opacity:1;fill:#ffffff;fill-opacity:1;fill-rule:nonzero;stroke:#000000;stroke-width:0.465;stroke-linecap:butt;stroke-linejoin:miter;stroke-miterlimit:4;stroke-dasharray:none;stroke-dashoffset:0;stroke-opacity:1\"/>\n",
       "      <text id=\"text4527-6-5\" style=\"font-style:normal;font-weight:normal;font-size:7.19691706px;line-height:125%;font-family:sans-serif;letter-spacing:0px;word-spacing:0px;fill:#ffffff;fill-opacity:1;stroke:none;stroke-width:0.17992292px;stroke-linecap:butt;stroke-linejoin:miter;stroke-opacity:1\" x=\"43.052185\" xml:space=\"preserve\" y=\"30.958742\"><tspan id=\"tspan4525-7-6\" sodipodi:role=\"line\" style=\"fill:#ffffff;fill-opacity:1;stroke-width:0.17992292px\" x=\"43.052185\" y=\"37.326328\"/></text>\n",
       "    </g>\n",
       "    <g id=\"g4603-7\" style=\"fill:#ffffff;fill-opacity:1\" transform=\"translate(52.162884,-6.000874)\">\n",
       "      <circle cx=\"45.106419\" cy=\"29.173071\" id=\"path4523-3-4\" r=\"6.6145835\" style=\"opacity:1;fill:#ffffff;fill-opacity:1;fill-rule:nonzero;stroke:#000000;stroke-width:0.465;stroke-linecap:butt;stroke-linejoin:miter;stroke-miterlimit:4;stroke-dasharray:none;stroke-dashoffset:0;stroke-opacity:1\"/>\n",
       "      <text id=\"text4527-6-52\" style=\"font-style:normal;font-weight:normal;font-size:7.19691706px;line-height:125%;font-family:sans-serif;letter-spacing:0px;word-spacing:0px;fill:#ffffff;fill-opacity:1;stroke:none;stroke-width:0.17992292px;stroke-linecap:butt;stroke-linejoin:miter;stroke-opacity:1\" x=\"43.052185\" xml:space=\"preserve\" y=\"30.958742\"><tspan id=\"tspan4525-7-5\" sodipodi:role=\"line\" style=\"fill:#ffffff;fill-opacity:1;stroke-width:0.17992292px\" x=\"43.052185\" y=\"37.326328\"/></text>\n",
       "    </g>\n",
       "    <g id=\"g4603-43\" style=\"fill:#ffffff;fill-opacity:1\" transform=\"translate(14.255908,9.440796)\">\n",
       "      <circle cx=\"45.106419\" cy=\"29.173071\" id=\"path4523-3-0\" r=\"6.6145835\" style=\"opacity:1;fill:#ffffff;fill-opacity:1;fill-rule:nonzero;stroke:#000000;stroke-width:0.465;stroke-linecap:butt;stroke-linejoin:miter;stroke-miterlimit:4;stroke-dasharray:none;stroke-dashoffset:0;stroke-opacity:1\"/>\n",
       "      <text id=\"text4527-6-7\" style=\"font-style:normal;font-weight:normal;font-size:7.19691706px;line-height:125%;font-family:sans-serif;letter-spacing:0px;word-spacing:0px;fill:#ffffff;fill-opacity:1;stroke:none;stroke-width:0.17992292px;stroke-linecap:butt;stroke-linejoin:miter;stroke-opacity:1\" x=\"43.052185\" xml:space=\"preserve\" y=\"30.958742\"><tspan id=\"tspan4525-7-8\" sodipodi:role=\"line\" style=\"fill:#ffffff;fill-opacity:1;stroke-width:0.17992292px\" x=\"43.052185\" y=\"37.326328\"/></text>\n",
       "    </g>\n",
       "  </g>\n",
       "  <g id=\"layer3\" inkscape:groupmode=\"layer\" inkscape:label=\"Letters\" style=\"display:inline\" transform=\"translate(-52.515243,-14.015728)\">\n",
       "    <text id=\"text4527\" style=\"font-style:normal;font-weight:normal;font-size:7.19691706px;line-height:125%;font-family:sans-serif;letter-spacing:0px;word-spacing:0px;display:inline;fill:#000000;fill-opacity:1;stroke:none;stroke-width:0.17992292px;stroke-linecap:butt;stroke-linejoin:miter;stroke-opacity:1\" x=\"89.165283\" xml:space=\"preserve\" y=\"54.487759\"><tspan id=\"tspan4525\" sodipodi:role=\"line\" style=\"stroke-width:0.17992292px\" x=\"89.165283\" y=\"54.487759\">c</tspan></text>\n",
       "    <text id=\"text4527-61\" style=\"font-style:normal;font-weight:normal;font-size:7.19691706px;line-height:125%;font-family:sans-serif;letter-spacing:0px;word-spacing:0px;display:inline;fill:#000000;fill-opacity:1;stroke:none;stroke-width:0.17992292px;stroke-linecap:butt;stroke-linejoin:miter;stroke-opacity:1\" x=\"129.24709\" xml:space=\"preserve\" y=\"81.575058\"><tspan id=\"tspan4525-2\" sodipodi:role=\"line\" style=\"stroke-width:0.17992292px\" x=\"129.24709\" y=\"81.575058\">e</tspan></text>\n",
       "    <text id=\"text4527-4\" style=\"font-style:normal;font-weight:normal;font-size:7.19691706px;line-height:125%;font-family:sans-serif;letter-spacing:0px;word-spacing:0px;display:inline;fill:#000000;fill-opacity:1;stroke:none;stroke-width:0.17992292px;stroke-linecap:butt;stroke-linejoin:miter;stroke-opacity:1\" x=\"127.91007\" xml:space=\"preserve\" y=\"22.365\"><tspan id=\"tspan4525-78\" sodipodi:role=\"line\" style=\"stroke-width:0.17992292px\" x=\"127.91007\" y=\"22.365\">g</tspan></text>\n",
       "    <text id=\"text4527-610\" style=\"font-style:normal;font-weight:normal;font-size:7.19691706px;line-height:125%;font-family:sans-serif;letter-spacing:0px;word-spacing:0px;display:inline;fill:#000000;fill-opacity:1;stroke:none;stroke-width:0.17992292px;stroke-linecap:butt;stroke-linejoin:miter;stroke-opacity:1\" x=\"60.483521\" xml:space=\"preserve\" y=\"70.972931\"><tspan id=\"tspan4525-6\" sodipodi:role=\"line\" style=\"stroke-width:0.17992292px\" x=\"60.483521\" y=\"70.972931\">f</tspan></text>\n",
       "    <text id=\"text4527-5\" style=\"font-style:normal;font-weight:normal;font-size:7.19691706px;line-height:125%;font-family:sans-serif;letter-spacing:0px;word-spacing:0px;display:inline;fill:#000000;fill-opacity:1;stroke:none;stroke-width:0.17992292px;stroke-linecap:butt;stroke-linejoin:miter;stroke-opacity:1\" x=\"128.09079\" xml:space=\"preserve\" y=\"54.455269\"><tspan id=\"tspan4525-5\" sodipodi:role=\"line\" style=\"stroke-width:0.17992292px\" x=\"128.09079\" y=\"54.455269\">d</tspan></text>\n",
       "    <text id=\"text4527-9\" style=\"font-style:normal;font-weight:normal;font-size:7.19691706px;line-height:125%;font-family:sans-serif;letter-spacing:0px;word-spacing:0px;display:inline;fill:#000000;fill-opacity:1;stroke:none;stroke-width:0.17992292px;stroke-linecap:butt;stroke-linejoin:miter;stroke-opacity:1\" x=\"95.281883\" xml:space=\"preserve\" y=\"24.957867\"><tspan id=\"tspan4525-3\" sodipodi:role=\"line\" style=\"stroke-width:0.17992292px\" x=\"95.281883\" y=\"24.957867\">a</tspan></text>\n",
       "    <text id=\"text4527-47\" style=\"font-style:normal;font-weight:normal;font-size:7.19691706px;line-height:125%;font-family:sans-serif;letter-spacing:0px;word-spacing:0px;display:inline;fill:#000000;fill-opacity:1;stroke:none;stroke-width:0.17992292px;stroke-linecap:butt;stroke-linejoin:miter;stroke-opacity:1\" x=\"57.374908\" xml:space=\"preserve\" y=\"40.777515\"><tspan id=\"tspan4525-4\" sodipodi:role=\"line\" style=\"stroke-width:0.17992292px\" x=\"57.374908\" y=\"40.777515\">b</tspan></text>\n",
       "  </g>\n",
       "</svg>"
      ],
      "text/plain": [
       "<IPython.core.display.SVG object>"
      ]
     },
     "metadata": {},
     "output_type": "display_data"
    },
    {
     "data": {
      "text/markdown": [
       "Vertices of $G$:\n",
       "\n",
       "    ['a', 'b', 'c', 'd', 'e', 'f', 'g']"
      ],
      "text/plain": [
       "<IPython.core.display.Markdown object>"
      ]
     },
     "metadata": {},
     "output_type": "display_data"
    },
    {
     "data": {
      "text/markdown": [
       "Edges of $G$:\n",
       "\n",
       "    [{'a', 'c'}, {'d', 'a'}, {'a', 'g'}, {'c', 'b'}, {'f', 'b'}, {'d', 'c'}, {'f', 'c'}, {'d', 'e'}, {'d', 'g'}]"
      ],
      "text/plain": [
       "<IPython.core.display.Markdown object>"
      ]
     },
     "metadata": {},
     "output_type": "display_data"
    }
   ],
   "source": [
    "G_map = {\n",
    "      \"a\": [\"c\", \"d\", \"g\"],\n",
    "      \"b\": [\"c\", \"f\"],\n",
    "      \"c\": [\"a\", \"b\", \"d\", \"f\"],\n",
    "      \"d\": [\"a\", \"c\", \"e\", \"g\"],\n",
    "      \"e\": [\"d\"],\n",
    "      \"f\": [\"b\", \"c\"],\n",
    "      \"g\": [\"a\", \"d\"]\n",
    "}\n",
    "G = Graph(G_map)\n",
    "display(SVG(filename=\"small_example.svg\"))\n",
    "display(Markdown('''Vertices of $G$:\\n\n",
    "    ''' + str(G.vertices()))\n",
    "        , Markdown('''Edges of $G$:\\n\n",
    "    ''' + str(G.edges())))"
   ]
  },
  {
   "cell_type": "markdown",
   "metadata": {},
   "source": [
    "## Degrees\n",
    "We then implemented methods related to *node degrees* in a graph:\n",
    "- `vertex_degree`: returns the degree of a given node;\n",
    "- `vertex_degrees`: returns a map $V \\rightarrow \\mathbb{N}$ giving the degree of each node;\n",
    "- `find_isolated_vertices`: returns list of vertices with degree 0;\n",
    "- `degree_sequence`: returns a tuple of all values of degrees of the nodes (with repetition) sorted in *decreasing order*;\n",
    "- `density`: returns the **density** of a graph, which is the number of edges divided by the maximum possible number of edges, i.e. $$\\frac{2|E|}{|V|(|V|-1)}.$$\n",
    "\n",
    "\n",
    "We test these functions over $G$, over $K_5$ (the clique of size 5) and $D_5$ the disconnected graph of size 5."
   ]
  },
  {
   "cell_type": "code",
   "execution_count": 36,
   "metadata": {},
   "outputs": [
    {
     "data": {
      "text/markdown": [
       "Degree of vertex `d` in $G$:\n",
       "\n",
       "    4"
      ],
      "text/plain": [
       "<IPython.core.display.Markdown object>"
      ]
     },
     "metadata": {},
     "output_type": "display_data"
    },
    {
     "data": {
      "text/markdown": [
       "Degrees of vertices in $G$:\n",
       "\n",
       "    {'a': 3, 'b': 2, 'c': 4, 'd': 4, 'e': 1, 'f': 2, 'g': 2}"
      ],
      "text/plain": [
       "<IPython.core.display.Markdown object>"
      ]
     },
     "metadata": {},
     "output_type": "display_data"
    },
    {
     "data": {
      "text/markdown": [
       "Degree sequence of the $G$:\n",
       "\n",
       "    (4, 4, 3, 2, 2, 2, 1)"
      ],
      "text/plain": [
       "<IPython.core.display.Markdown object>"
      ]
     },
     "metadata": {},
     "output_type": "display_data"
    },
    {
     "data": {
      "text/markdown": [
       "Isolated vertices of $D_5$:\n",
       "\n",
       "    {1, 2, 3, 4, 5}"
      ],
      "text/plain": [
       "<IPython.core.display.Markdown object>"
      ]
     },
     "metadata": {},
     "output_type": "display_data"
    },
    {
     "data": {
      "text/markdown": [
       "Density of $G$:\n",
       "\n",
       "    0.42857142857142855"
      ],
      "text/plain": [
       "<IPython.core.display.Markdown object>"
      ]
     },
     "metadata": {},
     "output_type": "display_data"
    },
    {
     "data": {
      "text/markdown": [
       "Density of $K_5$:\n",
       "\n",
       "    1.0"
      ],
      "text/plain": [
       "<IPython.core.display.Markdown object>"
      ]
     },
     "metadata": {},
     "output_type": "display_data"
    },
    {
     "data": {
      "text/markdown": [
       "Density of $D_5$:\n",
       "\n",
       "    0.0"
      ],
      "text/plain": [
       "<IPython.core.display.Markdown object>"
      ]
     },
     "metadata": {},
     "output_type": "display_data"
    }
   ],
   "source": [
    "D5 = G.no_edges(5)\n",
    "K5 = G.clique(5)\n",
    "display(Markdown('''Degree of vertex `d` in $G$:\\n\n",
    "    ''' + str(G.vertex_degree(\"d\")))\n",
    "       ,Markdown('''Degrees of vertices in $G$:\\n\n",
    "    ''' + str(G.vertex_degrees()))\n",
    "        ,Markdown('''Degree sequence of the $G$:\\n\n",
    "    ''' + str(G.degree_sequence()))\n",
    "       ,Markdown('''Isolated vertices of $D_5$:\\n\n",
    "    ''' + str(D5.find_isolated_vertices()))\n",
    "       ,Markdown('''Density of $G$:\\n\n",
    "    ''' + str(G.density()))\n",
    "       ,Markdown('''Density of $K_5$:\\n\n",
    "    ''' + str(K5.density()))\n",
    "       ,Markdown('''Density of $D_5$:\\n\n",
    "    ''' + str(D5.density())))"
   ]
  },
  {
   "cell_type": "markdown",
   "metadata": {
    "collapsed": true
   },
   "source": [
    "The **Erdős–Gallai theorem** gives a sufficient and necessary condition for a given sequence $d_1\\geq ...\\geq d_n$ to be a valid degree sequence of some G. We implemented it in a static method `erdos_gallai` that checks if the given tuple satisfies the condition."
   ]
  },
  {
   "cell_type": "code",
   "execution_count": 29,
   "metadata": {},
   "outputs": [
    {
     "data": {
      "text/markdown": [
       "(4, 4, 3, 2, 2, 2, 1) is a valid degree sequence"
      ],
      "text/plain": [
       "<IPython.core.display.Markdown object>"
      ]
     },
     "metadata": {},
     "output_type": "display_data"
    },
    {
     "data": {
      "text/markdown": [
       "(2, 1) is not a valid degree sequence"
      ],
      "text/plain": [
       "<IPython.core.display.Markdown object>"
      ]
     },
     "metadata": {},
     "output_type": "display_data"
    }
   ],
   "source": [
    "def display_EG(t):\n",
    "    if G.erdos_gallai(t):\n",
    "        return str(t) + \" is a valid degree sequence\"\n",
    "    else:\n",
    "        return str(t) + \" is not a valid degree sequence\"\n",
    "display(Markdown(display_EG(G.degree_sequence()))\n",
    "        , Markdown(display_EG(tuple([2,1]))))"
   ]
  },
  {
   "cell_type": "markdown",
   "metadata": {},
   "source": [
    "In a graph, a **triplet** consists of three nodes that are connected by either two (open triplet) or three (closed triplet) edges. A **triangle** consists of three closed triplets, each one centered on each node of the triangle. The **global clustering coefficient** of a graph is the number of closed triplets divided by the total number of triplets. Remark that this measure is not defined over graphs with no triplet."
   ]
  },
  {
   "cell_type": "code",
   "execution_count": 33,
   "metadata": {},
   "outputs": [
    {
     "data": {
      "text/markdown": [
       "Global clustering coefficient of example graph:\n",
       "\n",
       "    0.5"
      ],
      "text/plain": [
       "<IPython.core.display.Markdown object>"
      ]
     },
     "metadata": {},
     "output_type": "display_data"
    },
    {
     "data": {
      "text/markdown": [
       "Global clustering coefficient of $K_5$:\n",
       "\n",
       "    1.0"
      ],
      "text/plain": [
       "<IPython.core.display.Markdown object>"
      ]
     },
     "metadata": {},
     "output_type": "display_data"
    }
   ],
   "source": [
    "display(Markdown('''Global clustering coefficient of example graph:\\n\n",
    "    ''' + str(G.global_clustering_coefficient()))\n",
    "       ,Markdown('''Global clustering coefficient of $K_5$:\\n\n",
    "    ''' + str(K5.global_clustering_coefficient())))"
   ]
  },
  {
   "cell_type": "markdown",
   "metadata": {},
   "source": [
    "## Graph traversal\n",
    "In this section, we present the function we implemented relying on graph traversal (in all these functions we used the **Breadth First Search** (BFS) traversal method.\n",
    "### Connected components\n",
    "We implemented a function `connected_components` which returns a map $V \\rightarrow V$ assigning to each node the choosen label of its component (the label is one of the node of the component).\n",
    "\n",
    "In order to test this function, we define a copy of our example graph in which we had another connected component, call it $G_2$."
   ]
  },
  {
   "cell_type": "code",
   "execution_count": 49,
   "metadata": {},
   "outputs": [
    {
     "data": {
      "image/svg+xml": [
       "<svg height=\"72.620743mm\" id=\"svg8\" inkscape:version=\"0.92.2 5c3e80d, 2017-08-06\" sodipodi:docname=\"small_example2.svg\" version=\"1.1\" viewBox=\"0 0 151.56634 72.620743\" width=\"151.56635mm\" xmlns=\"http://www.w3.org/2000/svg\" xmlns:cc=\"http://creativecommons.org/ns#\" xmlns:dc=\"http://purl.org/dc/elements/1.1/\" xmlns:inkscape=\"http://www.inkscape.org/namespaces/inkscape\" xmlns:rdf=\"http://www.w3.org/1999/02/22-rdf-syntax-ns#\" xmlns:sodipodi=\"http://sodipodi.sourceforge.net/DTD/sodipodi-0.dtd\" xmlns:svg=\"http://www.w3.org/2000/svg\">\n",
       "  <defs id=\"defs2\"/>\n",
       "  <sodipodi:namedview bordercolor=\"#666666\" borderopacity=\"1.0\" id=\"base\" inkscape:current-layer=\"layer2\" inkscape:cx=\"274.21531\" inkscape:cy=\"134.01287\" inkscape:document-units=\"mm\" inkscape:pageopacity=\"0.0\" inkscape:pageshadow=\"2\" inkscape:window-height=\"1027\" inkscape:window-maximized=\"1\" inkscape:window-width=\"1920\" inkscape:window-x=\"0\" inkscape:window-y=\"0\" inkscape:zoom=\"1.979899\" pagecolor=\"#ffffff\" showgrid=\"false\"/>\n",
       "  <metadata id=\"metadata5\">\n",
       "    <rdf:RDF>\n",
       "      <cc:Work rdf:about=\"\">\n",
       "        <dc:format>image/svg+xml</dc:format>\n",
       "        <dc:type rdf:resource=\"http://purl.org/dc/dcmitype/StillImage\"/>\n",
       "        <dc:title/>\n",
       "      </cc:Work>\n",
       "    </rdf:RDF>\n",
       "  </metadata>\n",
       "  <g id=\"layer2\" inkscape:groupmode=\"layer\" inkscape:label=\"Lines\" style=\"display:inline\" transform=\"translate(-52.515243,-14.015728)\">\n",
       "    <path d=\"M 96.950891,27.313988 C 92.0372,49.047619 92.0372,49.047619 92.0372,49.047619\" id=\"path4865\" inkscape:connector-curvature=\"0\" style=\"fill:none;fill-rule:evenodd;stroke:#000000;stroke-width:0.465;stroke-linecap:butt;stroke-linejoin:miter;stroke-miterlimit:4;stroke-dasharray:none;stroke-opacity:1\"/>\n",
       "    <path d=\"m 101.67559,25.04613 26.26935,24.190476\" id=\"path4867\" inkscape:connector-curvature=\"0\" style=\"fill:none;fill-rule:evenodd;stroke:#000000;stroke-width:0.465;stroke-linecap:butt;stroke-linejoin:miter;stroke-miterlimit:4;stroke-dasharray:none;stroke-opacity:1\"/>\n",
       "    <path d=\"m 100.35268,21.07738 25.51339,0.188989\" id=\"path4869\" inkscape:connector-curvature=\"0\" style=\"fill:none;fill-rule:evenodd;stroke:#000000;stroke-width:0.465;stroke-linecap:butt;stroke-linejoin:miter;stroke-miterlimit:4;stroke-dasharray:none;stroke-opacity:1\"/>\n",
       "    <path d=\"M 62.744048,39.598213 87.879464,52.260415\" id=\"path4871\" inkscape:connector-curvature=\"0\" style=\"fill:none;fill-rule:evenodd;stroke:#000000;stroke-width:0.465;stroke-linecap:butt;stroke-linejoin:miter;stroke-miterlimit:4;stroke-dasharray:none;stroke-opacity:1\"/>\n",
       "    <path d=\"m 59.153273,43.566963 1.511904,20.97768\" id=\"path4873\" inkscape:connector-curvature=\"0\" style=\"fill:none;fill-rule:evenodd;stroke:#000000;stroke-width:0.465;stroke-linecap:butt;stroke-linejoin:miter;stroke-miterlimit:4;stroke-dasharray:none;stroke-opacity:1\"/>\n",
       "    <path d=\"M 66.145832,67.757439 89.202381,56.607143\" id=\"path4875\" inkscape:connector-curvature=\"0\" style=\"fill:none;fill-rule:evenodd;stroke:#000000;stroke-width:0.465;stroke-linecap:butt;stroke-linejoin:miter;stroke-miterlimit:4;stroke-dasharray:none;stroke-opacity:1\"/>\n",
       "    <path d=\"M 94.494047,52.449404 126.24405,52.82738\" id=\"path4877\" inkscape:connector-curvature=\"0\" style=\"fill:none;fill-rule:evenodd;stroke:#000000;stroke-width:0.465;stroke-linecap:butt;stroke-linejoin:miter;stroke-miterlimit:4;stroke-dasharray:none;stroke-opacity:1\"/>\n",
       "    <path d=\"m 131.34672,24.857142 0.18899,22.300595\" id=\"path4879\" inkscape:connector-curvature=\"0\" style=\"fill:none;fill-rule:evenodd;stroke:#000000;stroke-width:0.465;stroke-linecap:butt;stroke-linejoin:miter;stroke-miterlimit:4;stroke-dasharray:none;stroke-opacity:1\"/>\n",
       "    <path d=\"M 130.02381,56.040178 V 76.072914\" id=\"path4881\" inkscape:connector-curvature=\"0\" style=\"fill:none;fill-rule:evenodd;stroke:#000000;stroke-width:0.465;stroke-linecap:butt;stroke-linejoin:miter;stroke-miterlimit:4;stroke-dasharray:none;stroke-opacity:1\"/>\n",
       "    <path d=\"m 155.14674,72.471187 c 8.41899,-11.091685 8.41899,-11.091685 8.41899,-11.091685\" id=\"path3993\" inkscape:connector-curvature=\"0\" style=\"display:inline;fill:none;stroke:#000000;stroke-width:0.465;stroke-linecap:butt;stroke-linejoin:miter;stroke-opacity:1;stroke-miterlimit:4;stroke-dasharray:none\"/>\n",
       "    <path d=\"m 168.64385,52.960513 c 7.08264,-9.621705 7.21628,-9.621705 7.21628,-9.621705\" id=\"path3995\" inkscape:connector-curvature=\"0\" style=\"display:inline;fill:none;stroke:#000000;stroke-width:0.465;stroke-linecap:butt;stroke-linejoin:miter;stroke-opacity:1;stroke-miterlimit:4;stroke-dasharray:none\"/>\n",
       "    <path d=\"m 189.49087,25.565386 c -8.68626,11.091685 -8.68626,11.091685 -8.68626,11.091685\" id=\"path3997\" inkscape:connector-curvature=\"0\" style=\"display:inline;fill:none;stroke:#000000;stroke-width:0.465;stroke-linecap:butt;stroke-linejoin:miter;stroke-opacity:1;stroke-miterlimit:4;stroke-dasharray:none\"/>\n",
       "  </g>\n",
       "  <g id=\"layer1\" inkscape:groupmode=\"layer\" inkscape:label=\"Nodes\" style=\"display:inline\" transform=\"translate(-52.515243,-14.015728)\">\n",
       "    <circle cx=\"91.219513\" cy=\"52.607594\" id=\"path4523\" r=\"6.614583\" style=\"opacity:1;fill:none;fill-opacity:1;fill-rule:nonzero;stroke:#000000;stroke-width:0.465;stroke-linecap:butt;stroke-linejoin:miter;stroke-miterlimit:4;stroke-dasharray:none;stroke-dashoffset:0;stroke-opacity:1\"/>\n",
       "    <g id=\"g4603\" style=\"fill:#ffffff;fill-opacity:1\" transform=\"translate(46.046278,23.434524)\">\n",
       "      <circle cx=\"45.106419\" cy=\"29.173071\" id=\"path4523-3\" r=\"6.6145835\" style=\"opacity:1;fill:#ffffff;fill-opacity:1;fill-rule:nonzero;stroke:#000000;stroke-width:0.465;stroke-linecap:butt;stroke-linejoin:miter;stroke-miterlimit:4;stroke-dasharray:none;stroke-dashoffset:0;stroke-opacity:1\"/>\n",
       "      <text id=\"text4527-6\" style=\"font-style:normal;font-weight:normal;font-size:7.19691706px;line-height:125%;font-family:sans-serif;letter-spacing:0px;word-spacing:0px;fill:#ffffff;fill-opacity:1;stroke:none;stroke-width:0.17992292px;stroke-linecap:butt;stroke-linejoin:miter;stroke-opacity:1\" x=\"43.052185\" xml:space=\"preserve\" y=\"30.958742\"><tspan id=\"tspan4525-7\" sodipodi:role=\"line\" style=\"fill:#ffffff;fill-opacity:1;stroke-width:0.17992292px\" x=\"43.052185\" y=\"37.326328\"/></text>\n",
       "    </g>\n",
       "    <g id=\"g4603-9\" style=\"fill:#ffffff;fill-opacity:1\" transform=\"translate(86.128087,50.616318)\">\n",
       "      <circle cx=\"45.106419\" cy=\"29.173071\" id=\"path4523-3-3\" r=\"6.6145835\" style=\"opacity:1;fill:#ffffff;fill-opacity:1;fill-rule:nonzero;stroke:#000000;stroke-width:0.465;stroke-linecap:butt;stroke-linejoin:miter;stroke-miterlimit:4;stroke-dasharray:none;stroke-dashoffset:0;stroke-opacity:1\"/>\n",
       "      <text id=\"text4527-6-1\" style=\"font-style:normal;font-weight:normal;font-size:7.19691706px;line-height:125%;font-family:sans-serif;letter-spacing:0px;word-spacing:0px;fill:#ffffff;fill-opacity:1;stroke:none;stroke-width:0.17992292px;stroke-linecap:butt;stroke-linejoin:miter;stroke-opacity:1\" x=\"43.052185\" xml:space=\"preserve\" y=\"30.958742\"><tspan id=\"tspan4525-7-9\" sodipodi:role=\"line\" style=\"fill:#ffffff;fill-opacity:1;stroke-width:0.17992292px\" x=\"43.052185\" y=\"37.326328\"/></text>\n",
       "    </g>\n",
       "    <g id=\"g4603-4\" style=\"fill:#ffffff;fill-opacity:1\" transform=\"translate(84.980053,-8.310259)\">\n",
       "      <circle cx=\"45.106419\" cy=\"29.173071\" id=\"path4523-3-5\" r=\"6.6145835\" style=\"opacity:1;fill:#ffffff;fill-opacity:1;fill-rule:nonzero;stroke:#000000;stroke-width:0.465;stroke-linecap:butt;stroke-linejoin:miter;stroke-miterlimit:4;stroke-dasharray:none;stroke-dashoffset:0;stroke-opacity:1\"/>\n",
       "      <text id=\"text4527-6-0\" style=\"font-style:normal;font-weight:normal;font-size:7.19691706px;line-height:125%;font-family:sans-serif;letter-spacing:0px;word-spacing:0px;fill:#ffffff;fill-opacity:1;stroke:none;stroke-width:0.17992292px;stroke-linecap:butt;stroke-linejoin:miter;stroke-opacity:1\" x=\"43.052185\" xml:space=\"preserve\" y=\"30.958742\"><tspan id=\"tspan4525-7-3\" sodipodi:role=\"line\" style=\"fill:#ffffff;fill-opacity:1;stroke-width:0.17992292px\" x=\"43.052185\" y=\"37.326328\"/></text>\n",
       "    </g>\n",
       "    <g id=\"g4603-3\" style=\"fill:#ffffff;fill-opacity:1\" transform=\"translate(16.986541,39.35273)\">\n",
       "      <circle cx=\"45.106419\" cy=\"29.173071\" id=\"path4523-3-2\" r=\"6.6145835\" style=\"opacity:1;fill:#ffffff;fill-opacity:1;fill-rule:nonzero;stroke:#000000;stroke-width:0.465;stroke-linecap:butt;stroke-linejoin:miter;stroke-miterlimit:4;stroke-dasharray:none;stroke-dashoffset:0;stroke-opacity:1\"/>\n",
       "      <text id=\"text4527-6-06\" style=\"font-style:normal;font-weight:normal;font-size:7.19691706px;line-height:125%;font-family:sans-serif;letter-spacing:0px;word-spacing:0px;fill:#ffffff;fill-opacity:1;stroke:none;stroke-width:0.17992292px;stroke-linecap:butt;stroke-linejoin:miter;stroke-opacity:1\" x=\"43.052185\" xml:space=\"preserve\" y=\"30.958742\"><tspan id=\"tspan4525-7-1\" sodipodi:role=\"line\" style=\"fill:#ffffff;fill-opacity:1;stroke-width:0.17992292px\" x=\"43.052185\" y=\"37.326328\"/></text>\n",
       "    </g>\n",
       "    <g id=\"g4603-47\" style=\"fill:#ffffff;fill-opacity:1\" transform=\"translate(85.349764,23.024057)\">\n",
       "      <circle cx=\"45.106419\" cy=\"29.173071\" id=\"path4523-3-6\" r=\"6.6145835\" style=\"opacity:1;fill:#ffffff;fill-opacity:1;fill-rule:nonzero;stroke:#000000;stroke-width:0.465;stroke-linecap:butt;stroke-linejoin:miter;stroke-miterlimit:4;stroke-dasharray:none;stroke-dashoffset:0;stroke-opacity:1\"/>\n",
       "      <text id=\"text4527-6-5\" style=\"font-style:normal;font-weight:normal;font-size:7.19691706px;line-height:125%;font-family:sans-serif;letter-spacing:0px;word-spacing:0px;fill:#ffffff;fill-opacity:1;stroke:none;stroke-width:0.17992292px;stroke-linecap:butt;stroke-linejoin:miter;stroke-opacity:1\" x=\"43.052185\" xml:space=\"preserve\" y=\"30.958742\"><tspan id=\"tspan4525-7-6\" sodipodi:role=\"line\" style=\"fill:#ffffff;fill-opacity:1;stroke-width:0.17992292px\" x=\"43.052185\" y=\"37.326328\"/></text>\n",
       "    </g>\n",
       "    <g id=\"g4603-7\" style=\"fill:#ffffff;fill-opacity:1\" transform=\"translate(52.162884,-6.000874)\">\n",
       "      <circle cx=\"45.106419\" cy=\"29.173071\" id=\"path4523-3-4\" r=\"6.6145835\" style=\"opacity:1;fill:#ffffff;fill-opacity:1;fill-rule:nonzero;stroke:#000000;stroke-width:0.465;stroke-linecap:butt;stroke-linejoin:miter;stroke-miterlimit:4;stroke-dasharray:none;stroke-dashoffset:0;stroke-opacity:1\"/>\n",
       "      <text id=\"text4527-6-52\" style=\"font-style:normal;font-weight:normal;font-size:7.19691706px;line-height:125%;font-family:sans-serif;letter-spacing:0px;word-spacing:0px;fill:#ffffff;fill-opacity:1;stroke:none;stroke-width:0.17992292px;stroke-linecap:butt;stroke-linejoin:miter;stroke-opacity:1\" x=\"43.052185\" xml:space=\"preserve\" y=\"30.958742\"><tspan id=\"tspan4525-7-5\" sodipodi:role=\"line\" style=\"fill:#ffffff;fill-opacity:1;stroke-width:0.17992292px\" x=\"43.052185\" y=\"37.326328\"/></text>\n",
       "    </g>\n",
       "    <g id=\"g4603-43\" style=\"fill:#ffffff;fill-opacity:1\" transform=\"translate(14.255908,9.440796)\">\n",
       "      <circle cx=\"45.106419\" cy=\"29.173071\" id=\"path4523-3-0\" r=\"6.6145835\" style=\"opacity:1;fill:#ffffff;fill-opacity:1;fill-rule:nonzero;stroke:#000000;stroke-width:0.465;stroke-linecap:butt;stroke-linejoin:miter;stroke-miterlimit:4;stroke-dasharray:none;stroke-dashoffset:0;stroke-opacity:1\"/>\n",
       "      <text id=\"text4527-6-7\" style=\"font-style:normal;font-weight:normal;font-size:7.19691706px;line-height:125%;font-family:sans-serif;letter-spacing:0px;word-spacing:0px;fill:#ffffff;fill-opacity:1;stroke:none;stroke-width:0.17992292px;stroke-linecap:butt;stroke-linejoin:miter;stroke-opacity:1\" x=\"43.052185\" xml:space=\"preserve\" y=\"30.958742\"><tspan id=\"tspan4525-7-8\" sodipodi:role=\"line\" style=\"fill:#ffffff;fill-opacity:1;stroke-width:0.17992292px\" x=\"43.052185\" y=\"37.326328\"/></text>\n",
       "    </g>\n",
       "    <g id=\"g4603-9-2\" style=\"display:inline;fill:#ffffff;fill-opacity:1\" transform=\"translate(108.01288,47.45192)\">\n",
       "      <circle cx=\"45.106419\" cy=\"29.173071\" id=\"path4523-3-3-7\" r=\"6.6145835\" style=\"opacity:1;fill:#ffffff;fill-opacity:1;fill-rule:nonzero;stroke:#000000;stroke-width:0.465;stroke-linecap:butt;stroke-linejoin:miter;stroke-miterlimit:4;stroke-dasharray:none;stroke-dashoffset:0;stroke-opacity:1\"/>\n",
       "      <text id=\"text4527-6-1-0\" style=\"font-style:normal;font-weight:normal;font-size:7.19691706px;line-height:125%;font-family:sans-serif;letter-spacing:0px;word-spacing:0px;fill:#ffffff;fill-opacity:1;stroke:none;stroke-width:0.17992292px;stroke-linecap:butt;stroke-linejoin:miter;stroke-opacity:1\" x=\"43.052185\" xml:space=\"preserve\" y=\"30.958742\"><tspan id=\"tspan4525-7-9-9\" sodipodi:role=\"line\" style=\"fill:#ffffff;fill-opacity:1;stroke-width:0.17992292px\" x=\"43.052185\" y=\"37.326328\"/></text>\n",
       "    </g>\n",
       "    <g id=\"g4603-9-0\" style=\"display:inline;fill:#ffffff;fill-opacity:1\" transform=\"translate(120.46383,28.124669)\">\n",
       "      <circle cx=\"45.106419\" cy=\"29.173071\" id=\"path4523-3-3-6\" r=\"6.6145835\" style=\"opacity:1;fill:#ffffff;fill-opacity:1;fill-rule:nonzero;stroke:#000000;stroke-width:0.465;stroke-linecap:butt;stroke-linejoin:miter;stroke-miterlimit:4;stroke-dasharray:none;stroke-dashoffset:0;stroke-opacity:1\"/>\n",
       "      <text id=\"text4527-6-1-2\" style=\"font-style:normal;font-weight:normal;font-size:7.19691706px;line-height:125%;font-family:sans-serif;letter-spacing:0px;word-spacing:0px;fill:#ffffff;fill-opacity:1;stroke:none;stroke-width:0.17992292px;stroke-linecap:butt;stroke-linejoin:miter;stroke-opacity:1\" x=\"43.052185\" xml:space=\"preserve\" y=\"30.958742\"><tspan id=\"tspan4525-7-9-6\" sodipodi:role=\"line\" style=\"fill:#ffffff;fill-opacity:1;stroke-width:0.17992292px\" x=\"43.052185\" y=\"37.326328\"/></text>\n",
       "    </g>\n",
       "    <g id=\"g4603-9-7\" style=\"display:inline;fill:#ffffff;fill-opacity:1\" transform=\"translate(132.94721,10.302607)\">\n",
       "      <circle cx=\"45.106419\" cy=\"29.173071\" id=\"path4523-3-3-9\" r=\"6.6145835\" style=\"opacity:1;fill:#ffffff;fill-opacity:1;fill-rule:nonzero;stroke:#000000;stroke-width:0.465;stroke-linecap:butt;stroke-linejoin:miter;stroke-miterlimit:4;stroke-dasharray:none;stroke-dashoffset:0;stroke-opacity:1\"/>\n",
       "      <text id=\"text4527-6-1-20\" style=\"font-style:normal;font-weight:normal;font-size:7.19691706px;line-height:125%;font-family:sans-serif;letter-spacing:0px;word-spacing:0px;fill:#ffffff;fill-opacity:1;stroke:none;stroke-width:0.17992292px;stroke-linecap:butt;stroke-linejoin:miter;stroke-opacity:1\" x=\"43.052185\" xml:space=\"preserve\" y=\"30.958742\"><tspan id=\"tspan4525-7-9-2\" sodipodi:role=\"line\" style=\"fill:#ffffff;fill-opacity:1;stroke-width:0.17992292px\" x=\"43.052185\" y=\"37.326328\"/></text>\n",
       "    </g>\n",
       "    <g id=\"g4603-9-9\" style=\"display:inline;fill:#ffffff;fill-opacity:1\" transform=\"translate(146.52261,-6.5476519)\">\n",
       "      <circle cx=\"45.106419\" cy=\"29.173071\" id=\"path4523-3-3-2\" r=\"6.6145835\" style=\"opacity:1;fill:#ffffff;fill-opacity:1;fill-rule:nonzero;stroke:#000000;stroke-width:0.465;stroke-linecap:butt;stroke-linejoin:miter;stroke-miterlimit:4;stroke-dasharray:none;stroke-dashoffset:0;stroke-opacity:1\"/>\n",
       "      <text id=\"text4527-6-1-28\" style=\"font-style:normal;font-weight:normal;font-size:7.19691706px;line-height:125%;font-family:sans-serif;letter-spacing:0px;word-spacing:0px;fill:#ffffff;fill-opacity:1;stroke:none;stroke-width:0.17992292px;stroke-linecap:butt;stroke-linejoin:miter;stroke-opacity:1\" x=\"43.052185\" xml:space=\"preserve\" y=\"30.958742\"><tspan id=\"tspan4525-7-9-97\" sodipodi:role=\"line\" style=\"fill:#ffffff;fill-opacity:1;stroke-width:0.17992292px\" x=\"43.052185\" y=\"37.326328\"/></text>\n",
       "    </g>\n",
       "  </g>\n",
       "  <g id=\"layer3\" inkscape:groupmode=\"layer\" inkscape:label=\"Letters\" style=\"display:inline\" transform=\"translate(-52.515243,-14.015728)\">\n",
       "    <text id=\"text4527\" style=\"font-style:normal;font-weight:normal;font-size:7.19691706px;line-height:125%;font-family:sans-serif;letter-spacing:0px;word-spacing:0px;display:inline;fill:#000000;fill-opacity:1;stroke:none;stroke-width:0.17992292px;stroke-linecap:butt;stroke-linejoin:miter;stroke-opacity:1\" x=\"89.165283\" xml:space=\"preserve\" y=\"54.487759\"><tspan id=\"tspan4525\" sodipodi:role=\"line\" style=\"stroke-width:0.17992292px\" x=\"89.165283\" y=\"54.487759\">c</tspan></text>\n",
       "    <text id=\"text4527-61\" style=\"font-style:normal;font-weight:normal;font-size:7.19691706px;line-height:125%;font-family:sans-serif;letter-spacing:0px;word-spacing:0px;display:inline;fill:#000000;fill-opacity:1;stroke:none;stroke-width:0.17992292px;stroke-linecap:butt;stroke-linejoin:miter;stroke-opacity:1\" x=\"129.24709\" xml:space=\"preserve\" y=\"81.575058\"><tspan id=\"tspan4525-2\" sodipodi:role=\"line\" style=\"stroke-width:0.17992292px\" x=\"129.24709\" y=\"81.575058\">e</tspan></text>\n",
       "    <text id=\"text4527-4\" style=\"font-style:normal;font-weight:normal;font-size:7.19691706px;line-height:125%;font-family:sans-serif;letter-spacing:0px;word-spacing:0px;display:inline;fill:#000000;fill-opacity:1;stroke:none;stroke-width:0.17992292px;stroke-linecap:butt;stroke-linejoin:miter;stroke-opacity:1\" x=\"127.91007\" xml:space=\"preserve\" y=\"22.365\"><tspan id=\"tspan4525-78\" sodipodi:role=\"line\" style=\"stroke-width:0.17992292px\" x=\"127.91007\" y=\"22.365\">g</tspan></text>\n",
       "    <text id=\"text4527-610\" style=\"font-style:normal;font-weight:normal;font-size:7.19691706px;line-height:125%;font-family:sans-serif;letter-spacing:0px;word-spacing:0px;display:inline;fill:#000000;fill-opacity:1;stroke:none;stroke-width:0.17992292px;stroke-linecap:butt;stroke-linejoin:miter;stroke-opacity:1\" x=\"60.483521\" xml:space=\"preserve\" y=\"70.972931\"><tspan id=\"tspan4525-6\" sodipodi:role=\"line\" style=\"stroke-width:0.17992292px\" x=\"60.483521\" y=\"70.972931\">f</tspan></text>\n",
       "    <text id=\"text4527-5\" style=\"font-style:normal;font-weight:normal;font-size:7.19691706px;line-height:125%;font-family:sans-serif;letter-spacing:0px;word-spacing:0px;display:inline;fill:#000000;fill-opacity:1;stroke:none;stroke-width:0.17992292px;stroke-linecap:butt;stroke-linejoin:miter;stroke-opacity:1\" x=\"128.09079\" xml:space=\"preserve\" y=\"54.455269\"><tspan id=\"tspan4525-5\" sodipodi:role=\"line\" style=\"stroke-width:0.17992292px\" x=\"128.09079\" y=\"54.455269\">d</tspan></text>\n",
       "    <text id=\"text4527-9\" style=\"font-style:normal;font-weight:normal;font-size:7.19691706px;line-height:125%;font-family:sans-serif;letter-spacing:0px;word-spacing:0px;display:inline;fill:#000000;fill-opacity:1;stroke:none;stroke-width:0.17992292px;stroke-linecap:butt;stroke-linejoin:miter;stroke-opacity:1\" x=\"95.281883\" xml:space=\"preserve\" y=\"24.957867\"><tspan id=\"tspan4525-3\" sodipodi:role=\"line\" style=\"stroke-width:0.17992292px\" x=\"95.281883\" y=\"24.957867\">a</tspan></text>\n",
       "    <text id=\"text4527-47\" style=\"font-style:normal;font-weight:normal;font-size:7.19691706px;line-height:125%;font-family:sans-serif;letter-spacing:0px;word-spacing:0px;display:inline;fill:#000000;fill-opacity:1;stroke:none;stroke-width:0.17992292px;stroke-linecap:butt;stroke-linejoin:miter;stroke-opacity:1\" x=\"57.374908\" xml:space=\"preserve\" y=\"40.777515\"><tspan id=\"tspan4525-4\" sodipodi:role=\"line\" style=\"stroke-width:0.17992292px\" x=\"57.374908\" y=\"40.777515\">b</tspan></text>\n",
       "    <text id=\"text4527-61-3\" style=\"display:inline;font-style:normal;font-weight:normal;font-size:7.19691706px;line-height:125%;font-family:sans-serif;letter-spacing:0px;word-spacing:0px;fill:#000000;fill-opacity:1;stroke:none;stroke-width:0.17992292px;stroke-linecap:butt;stroke-linejoin:miter;stroke-opacity:1\" x=\"152.07681\" xml:space=\"preserve\" y=\"79.450096\"><tspan id=\"tspan4525-2-6\" sodipodi:role=\"line\" style=\"stroke-width:0.17992292px\" x=\"152.07681\" y=\"79.450096\">i</tspan></text>\n",
       "    <text id=\"text4527-61-1\" style=\"display:inline;font-style:normal;font-weight:normal;font-size:7.19691706px;line-height:125%;font-family:sans-serif;letter-spacing:0px;word-spacing:0px;fill:#000000;fill-opacity:1;stroke:none;stroke-width:0.17992292px;stroke-linecap:butt;stroke-linejoin:miter;stroke-opacity:1\" x=\"164.81126\" xml:space=\"preserve\" y=\"59.461388\"><tspan id=\"tspan4525-2-8\" sodipodi:role=\"line\" style=\"stroke-width:0.17992292px\" x=\"164.81126\" y=\"59.461388\">j</tspan></text>\n",
       "    <text id=\"text4527-61-37\" style=\"display:inline;font-style:normal;font-weight:normal;font-size:7.19691706px;line-height:125%;font-family:sans-serif;letter-spacing:0px;word-spacing:0px;fill:#000000;fill-opacity:1;stroke:none;stroke-width:0.17992292px;stroke-linecap:butt;stroke-linejoin:miter;stroke-opacity:1\" x=\"176.06622\" xml:space=\"preserve\" y=\"41.733818\"><tspan id=\"tspan4525-2-5\" sodipodi:role=\"line\" style=\"stroke-width:0.17992292px\" x=\"176.06622\" y=\"41.733818\">k</tspan></text>\n",
       "    <text id=\"text4527-61-36\" style=\"display:inline;font-style:normal;font-weight:normal;font-size:7.19691706px;line-height:125%;font-family:sans-serif;letter-spacing:0px;word-spacing:0px;fill:#000000;fill-opacity:1;stroke:none;stroke-width:0.17992292px;stroke-linecap:butt;stroke-linejoin:miter;stroke-opacity:1\" x=\"190.49207\" xml:space=\"preserve\" y=\"25.261536\"><tspan id=\"tspan4525-2-1\" sodipodi:role=\"line\" style=\"stroke-width:0.17992292px\" x=\"190.49207\" y=\"25.261536\">l</tspan></text>\n",
       "  </g>\n",
       "</svg>"
      ],
      "text/plain": [
       "<IPython.core.display.SVG object>"
      ]
     },
     "metadata": {},
     "output_type": "display_data"
    },
    {
     "data": {
      "text/markdown": [
       "$G_2$ has 2 connected components"
      ],
      "text/plain": [
       "<IPython.core.display.Markdown object>"
      ]
     },
     "metadata": {},
     "output_type": "display_data"
    }
   ],
   "source": [
    "G2 = Graph(G_map)\n",
    "G2.add_vertex('i')\n",
    "G2.add_vertex('j')\n",
    "G2.add_vertex('k')\n",
    "G2.add_vertex('l')\n",
    "G2.add_vertex('m')\n",
    "G2.add_edge({'i','j'})\n",
    "G2.add_edge({'j','k'})\n",
    "G2.add_edge({'k','l'})\n",
    "G2.add_edge({'l','m'})\n",
    "display(SVG(filename=\"small_example2.svg\"),\n",
    "        Markdown('$G_2$ has ' + str(len(set(G2.connected_components().values()))) + ' connected components'))"
   ]
  },
  {
   "cell_type": "markdown",
   "metadata": {},
   "source": [
    "### Diameter"
   ]
  },
  {
   "cell_type": "code",
   "execution_count": 5,
   "metadata": {},
   "outputs": [
    {
     "name": "stdout",
     "output_type": "stream",
     "text": [
      "inf\n",
      "2\n",
      "3\n",
      "4\n"
     ]
    }
   ],
   "source": [
    "print(G2.shortest_path('a','i'))\n",
    "print(G2.shortest_path('a','b'))\n",
    "print(G2.shortest_path('e','b'))\n",
    "print(G2.shortest_path('i','m'))"
   ]
  },
  {
   "cell_type": "code",
   "execution_count": 6,
   "metadata": {},
   "outputs": [
    {
     "name": "stdout",
     "output_type": "stream",
     "text": [
      "3\n",
      "4\n",
      "inf\n",
      "3\n"
     ]
    }
   ],
   "source": [
    "print(G2.diameter_component('a'))\n",
    "print(G2.diameter_component('i'))\n",
    "print(G2.diameter())\n",
    "print(G2.biggest_component_diameter())"
   ]
  },
  {
   "cell_type": "code",
   "execution_count": 46,
   "metadata": {},
   "outputs": [
    {
     "name": "stdout",
     "output_type": "stream",
     "text": [
      "[{'a', 'c'}, {'d', 'a'}, {'a', 'g'}, {'d', 'e'}, {'b', 'c'}, {'f', 'c'}]\n"
     ]
    }
   ],
   "source": [
    "print(G.spanning_tree())"
   ]
  },
  {
   "cell_type": "code",
   "execution_count": 8,
   "metadata": {
    "collapsed": true
   },
   "outputs": [],
   "source": [
    "zachary = G.from_txt('zachary_connected.txt')\n",
    "random100 = G.from_txt('graph_100n_1000m.txt')\n",
    "random1000 = G.from_txt('graph_1000n_4000m.txt')"
   ]
  },
  {
   "cell_type": "code",
   "execution_count": 9,
   "metadata": {},
   "outputs": [
    {
     "data": {
      "text/latex": [
       "\\begin{array}{|c|c|c|c|c|c|} \\hline \\text{Dataset} & \\text{Number of vertices} & \\text{Number of edges} & \n",
       "\\text{Density} & \\text{Diameter} & \\text{Clustering coefficient} \\\\ \\hline \n",
       "\\text{Zachary} & 33 & 78 & 0.14772727272727273 & 5 & 0.15458015267175573 \\\\\\ \\text{Random, } N=10^2 & 100 & 960 & 0.19393939393939394 & 3 & 0.19275720164609053 \\\\\\ \\text{Random, }N=10^3 & 1000 & 3989 & 0.007985985985985987 & 6 & 0.006997856512419619\\\\ \\hline \\end{array}"
      ],
      "text/plain": [
       "<IPython.core.display.Latex object>"
      ]
     },
     "execution_count": 9,
     "metadata": {},
     "output_type": "execute_result"
    }
   ],
   "source": [
    "Latex(r\"\"\"\\begin{array}{|c|c|c|c|c|c|} \\hline \\text{Dataset} & \\text{Number of vertices} & \\text{Number of edges} & \n",
    "\\text{Density} & \\text{Diameter} & \\text{Clustering coefficient} \\\\ \\hline \n",
    "\\text{Zachary} & \"\"\"\n",
    "+ str(len(zachary.vertices())) + r' & '+ str(len(zachary.edges())) + r\"\"\" & \"\"\"\n",
    "+ str(zachary.density()) + \"\"\" & \"\"\" + str(zachary.diameter()) + \"\"\" & \"\"\" + str(zachary.global_clustering_coefficient()) \n",
    "+ r\"\"\" \\\\\\ \\text{Random, } N=10^2 & \"\"\"\n",
    "+ str(len(random100.vertices())) + \"\"\" & \"\"\" + str(len(random100.edges())) + \"\"\" & \"\"\"\n",
    "+ str(random100.density()) + \"\"\" & \"\"\" + str(random100.diameter()) + \"\"\" & \"\"\" + str(random100.global_clustering_coefficient())\n",
    "+ r\"\"\" \\\\\\ \\text{Random, }N=10^3 & \"\"\"\n",
    "+ str(len(random1000.vertices())) + \"\"\" & \"\"\" + str(len(random1000.edges())) + \"\"\" & \"\"\"\n",
    "+ str(random1000.density()) + \"\"\" & \"\"\" + str(random1000.diameter()) + \"\"\" & \"\"\" + str(random1000.global_clustering_coefficient()) \n",
    "+ \"\"\"\\\\\\ \\hline \\end{array}\"\"\")"
   ]
  },
  {
   "cell_type": "code",
   "execution_count": null,
   "metadata": {
    "collapsed": true
   },
   "outputs": [],
   "source": []
  },
  {
   "cell_type": "code",
   "execution_count": null,
   "metadata": {
    "collapsed": true
   },
   "outputs": [],
   "source": []
  }
 ],
 "metadata": {
  "kernelspec": {
   "display_name": "Python 3",
   "language": "python",
   "name": "python3"
  },
  "language_info": {
   "codemirror_mode": {
    "name": "ipython",
    "version": 3
   },
   "file_extension": ".py",
   "mimetype": "text/x-python",
   "name": "python",
   "nbconvert_exporter": "python",
   "pygments_lexer": "ipython3",
   "version": "3.6.3"
  }
 },
 "nbformat": 4,
 "nbformat_minor": 2
}
