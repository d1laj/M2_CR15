{
 "cells": [
  {
   "cell_type": "markdown",
   "metadata": {},
   "source": [
    "<h1 style=\"text-align: center;\" markdown=\"1\">Complex Networks - Practical Session</h1>\n",
    "<h3 style=\"text-align: center;\" markdown=\"1\">by Dimitri Lajou and Fabrice Lebeau</h3>"
   ]
  },
  {
   "cell_type": "markdown",
   "metadata": {},
   "source": [
    "# TP1"
   ]
  },
  {
   "cell_type": "markdown",
   "metadata": {},
   "source": [
    "## Introduction\n",
    "In this notebook, we present a (small) graph library that implements some useful function about graphs, e.g. shortest paths, components etc. We then apply some of these functions to the classical Zachary graph and two random graphs with 100 and 1000 nodes.\n",
    "\n",
    "Let us first import the tools we are going to use."
   ]
  },
  {
   "cell_type": "code",
   "execution_count": 3,
   "metadata": {
    "collapsed": false
   },
   "outputs": [],
   "source": [
    "import numpy as np\n",
    "import math\n",
    "from parse import parse\n",
    "from IPython.display import Math, Markdown, Latex, display, display_latex, SVG"
   ]
  },
  {
   "cell_type": "markdown",
   "metadata": {},
   "source": [
    "## The Graph class\n",
    "### Basics\n",
    "We consider *undirected* graphs $G=(V,E)$, that we store in an adjacency list (we use a map $V \\rightarrow \\mathcal{P}(V)$ which assign to node $v \\in V$ the list of nodes which are linked to $v$). We begin by adding the functions for defining a graph from a map, for adding vertices/edges and for retrieving the set of edges and vertices of the G. Other functions are presented in the rest of this notebook.\n",
    "\n",
    "We also define static methods `clique` and `no_edges` which respectively returns an instance of Graph corresponding to a clique of the desired size and a completely disconnected graph with given number of nodes. These examples will come handy for debugging."
   ]
  },
  {
   "cell_type": "code",
   "execution_count": 4,
   "metadata": {
    "collapsed": true
   },
   "outputs": [],
   "source": [
    "\"\"\" CR15 graph library \"\"\"\n",
    "class Graph(object):\n",
    "\n",
    "    def __init__(self, graph_dict={}, graph_name=\"\"):\n",
    "        \"\"\" initializes a graph object \"\"\"\n",
    "        self.__graph_dict = graph_dict.copy()\n",
    "        self.__name=graph_name\n",
    "\n",
    "    def name(self):\n",
    "        return self.__name\n",
    "        \n",
    "    def vertices(self):\n",
    "        \"\"\" returns the vertices of a graph \"\"\"\n",
    "        return list(self.__graph_dict.keys())\n",
    "\n",
    "    def edges(self):\n",
    "        \"\"\" returns the edges of a graph \"\"\"\n",
    "        return self.__generate_edges()\n",
    "    \n",
    "    def connected_components(self):\n",
    "        return self.__generate_components()\n",
    "\n",
    "    def add_vertex(self, vertex):\n",
    "        \"\"\" If vertex is not in self.__graph_dict, a key \"vertex\" with an empty\n",
    "        list as a value is added to the dictionary. Otherwise nothing has to be \n",
    "        done.\"\"\"\n",
    "        if not vertex in self.__graph_dict:\n",
    "            self.__graph_dict[vertex] = []\n",
    "        \n",
    "\n",
    "    def add_edge(self, edge):\n",
    "        \"\"\" assumes that edge is of type set, tuple or list. No loops or \n",
    "        multiple edges.\"\"\"\n",
    "        my_edge = list(edge)\n",
    "        if len(my_edge) != 2: raise WrongSizeForEdge()\n",
    "        u = edge.pop()\n",
    "        v = edge.pop()\n",
    "        if u in self.__graph_dict and v in self.__graph_dict:\n",
    "            if u != v:\n",
    "                if v not in self.__graph_dict[u]:\n",
    "                    self.__graph_dict[u].append(v)\n",
    "                if u not in self.__graph_dict[v]:\n",
    "                    self.__graph_dict[v].append(u)\n",
    "        else:\n",
    "            raise VerticesNotDecleared()\n",
    "            \n",
    "\n",
    "    def __generate_edges(self):\n",
    "        \"\"\" A static method generating the edges of the graph \"graph\". Edges \n",
    "        are represented as sets two vertices, with no loops. To complete.\"\"\"\n",
    "        edges = []\n",
    "        for v, edges_list in self.__graph_dict.items():\n",
    "            for u in edges_list:\n",
    "                if v < u:\n",
    "                    edges.append(set([v,u]))\n",
    "        return edges\n",
    "    \n",
    "    def vertex_degrees(self):\n",
    "        \"\"\"Return a dictionary degree\"\"\"\n",
    "        degrees = {}\n",
    "        for v, edges_list in self.__graph_dict.items():\n",
    "            degrees[v] = len(edges_list)\n",
    "        return degrees\n",
    "    \n",
    "    def vertex_degree(self, vertex):\n",
    "        \"\"\"Return a dictionary degree\"\"\"\n",
    "        return len(self.__graph_dict[vertex])\n",
    "    \n",
    "    def find_isolated_vertices(self):\n",
    "        \"\"\"Return a set of zero-degree verticies\"\"\"\n",
    "        zero_set = set()\n",
    "        for v, edges_list in self.__graph_dict.items():\n",
    "            if len(edges_list) == 0:\n",
    "                zero_set.add(v)\n",
    "        return zero_set\n",
    "                \n",
    "    def density(self):\n",
    "        \"\"\"Return the density of the graph\"\"\"\n",
    "        deg = self.vertex_degrees()\n",
    "        density = 0\n",
    "        for v, d in deg.items():\n",
    "            density += d\n",
    "        density /=  (len(deg) -1) *len(deg)\n",
    "        return density\n",
    "                    \n",
    "    def dict(self):\n",
    "        return self.__graph_dict\n",
    "    \n",
    "    def degree_sequence(self):\n",
    "        \"\"\"Return the list of vertex degree sorted by decreasing degree\"\"\"\n",
    "        deg = self.vertex_degrees()\n",
    "        deg_list = [v for v in deg.values()]\n",
    "        deg_list.sort(reverse=True)\n",
    "        return tuple(deg_list)\n",
    "    \n",
    "    @staticmethod\n",
    "    def erdos_gallai(deg_seq):\n",
    "        \"\"\"Given a degree sequence, this method verify that this sequence verify the erdos gallai conditions\"\"\"\n",
    "        even_number = 0\n",
    "        for v in deg_seq:\n",
    "            even_number += v\n",
    "        if even_number % 2 == 1 :\n",
    "            return False\n",
    "        sumOfdi = 0\n",
    "        for k in range(len(deg_seq)):\n",
    "            sumOfdi += deg_seq[k]\n",
    "            sumOfMin = k*(k+1)\n",
    "            for i in range(k, len(deg_seq)):\n",
    "                sumOfMin += min(deg_seq[i], k+1)\n",
    "            if sumOfMin < sumOfdi:\n",
    "                return False\n",
    "        return True\n",
    "    \n",
    "    def global_clustering_coefficient(self):\n",
    "        triangle = 0\n",
    "        triplet = 0\n",
    "        for v in self.__graph_dict:\n",
    "            for u in self.__graph_dict[v]:\n",
    "                for w in self.__graph_dict[v]:\n",
    "                    if u != w: \n",
    "                        triplet += 1\n",
    "                    if u != w and w in self.__graph_dict[u]:\n",
    "                        triangle += 1\n",
    "        return triangle / triplet\n",
    "    \n",
    "    \"\"\" Graph traversal \"\"\"\n",
    "    def components_BFS(self, vertices, comps, base_vertice):\n",
    "        if not vertices:\n",
    "            return\n",
    "        new_vertices = []\n",
    "        for v in vertices:\n",
    "            comps[v] = base_vertice\n",
    "            for u in self.__graph_dict[v]:\n",
    "                if comps[u] == u and u != base_vertice:\n",
    "                    new_vertices.append(u)\n",
    "        self.components_BFS(new_vertices, comps, base_vertice)\n",
    "    \n",
    "    def __generate_components(self):\n",
    "        \"\"\"Retuen a dictionnary of components representant\"\"\"\n",
    "        comps = {}\n",
    "        for u in self.__graph_dict:\n",
    "            comps[u] = u\n",
    "        for u in self.__graph_dict:\n",
    "            if comps[u] == u:\n",
    "                self.components_BFS([u], comps, u)\n",
    "        return comps\n",
    "    \n",
    "    def shortest_path_BFS(self, vertices, seen, d, goal):\n",
    "        if not vertices:\n",
    "            return math.inf\n",
    "        if goal in vertices:\n",
    "            return d\n",
    "        new_vertices = set()\n",
    "        for v in vertices:\n",
    "            seen.add(v)\n",
    "        for v in vertices:\n",
    "            for u in self.__graph_dict[v]:\n",
    "                if u not in seen:\n",
    "                    new_vertices.add(u)\n",
    "        return self.shortest_path_BFS(new_vertices, seen, d+1, goal)\n",
    "    \n",
    "    def shortest_path(self, s, t):\n",
    "        \"\"\"Return the shortest path between s and t\"\"\"\n",
    "        return self.shortest_path_BFS({s}, set(), 0, t)\n",
    "    \n",
    "    def diameter_BFS(self, vertices, seen, d):\n",
    "        if not vertices:\n",
    "            if d > 0:\n",
    "                return d-1\n",
    "            else:\n",
    "                return d\n",
    "        new_vertices = set()\n",
    "        for v in vertices:\n",
    "            seen.add(v)\n",
    "        for v in vertices:\n",
    "            for u in self.__graph_dict[v]:\n",
    "                if u not in seen:\n",
    "                    new_vertices.add(u)\n",
    "        return self.diameter_BFS(new_vertices, seen, d+1)\n",
    "    \n",
    "    def diameter(self):\n",
    "        diam = 0\n",
    "        for u in self.__graph_dict:\n",
    "            m = self.diameter_BFS({u}, set(), 0)\n",
    "            if (m > diam):\n",
    "                diam = m\n",
    "        return diam\n",
    "    \n",
    "    def diameter_component(self, u):\n",
    "        \"\"\" Return the diameter of the component containing vertex u \"\"\"\n",
    "        component = set()\n",
    "        comps = self.connected_components()\n",
    "        # First get the nodes of the component #\n",
    "        for v in self.__graph_dict:\n",
    "            if comps[v] == comps[u]:\n",
    "                component.add(v)\n",
    "        diam = 0\n",
    "        for v in component:\n",
    "            m = self.diameter_BFS({v}, set(), 0)\n",
    "            if (m > diam):\n",
    "                diam = m\n",
    "        return diam\n",
    "    \n",
    "    def biggest_component_diameter(self):\n",
    "        if not self.vertices(): return 0\n",
    "        \n",
    "        # First determine the biggest component #\n",
    "        comps = self.connected_components()\n",
    "        comps_size = {}\n",
    "        for u in comps.values():\n",
    "            comps_size[u] = 0\n",
    "        for v,u in comps.items():\n",
    "            comps_size[u] += 1\n",
    "        biggest = tuple(comps.values())[0]\n",
    "        max_size = comps_size[biggest]\n",
    "        for u in comps.values():\n",
    "            if comps_size[u] > max_size:\n",
    "                max_size = comps_size[u]\n",
    "                biggest = u\n",
    "        \n",
    "        # Return the diameter of the corresponding component\n",
    "        return self.diameter_component(biggest)\n",
    "        \n",
    "    def spanning_tree(self):\n",
    "        queue = []\n",
    "        tree = []\n",
    "        # Hack to get one key in the dict\n",
    "        for v in self.__graph_dict:\n",
    "            queue.append(v)\n",
    "            break\n",
    "        seen = [queue[-1]]\n",
    "\n",
    "        while queue:\n",
    "            u = queue.pop()\n",
    "            for v in self.__graph_dict[u]:\n",
    "                if not v in seen:\n",
    "                    tree.append(set([u,v]))\n",
    "                    seen.append(v)\n",
    "                    queue.append(v)\n",
    "        return tree\n",
    "        \n",
    "    \"\"\" Static methods for defining classical graphs \"\"\"\n",
    "    @staticmethod\n",
    "    def clique(n):\n",
    "        d = {}\n",
    "        s = set(i+1 for i in range(n))\n",
    "        for i in range(n):\n",
    "            d[i+1] = s.difference(set({i+1}))\n",
    "        return Graph(d,\"$K_\"+str(n)+\"$\")\n",
    "    \n",
    "    @staticmethod\n",
    "    def no_edges(n):\n",
    "        d = {}\n",
    "        for i in range(n):\n",
    "            d[i+1] = []\n",
    "        return Graph(d,\"$D_\"+str(n)+\"$\")\n",
    "\n",
    "    \"\"\" Importing from a text file \"\"\"\n",
    "    @staticmethod\n",
    "    def from_txt(file):\n",
    "        G = Graph()\n",
    "        lines = open(file).readlines()\n",
    "        for l in lines:\n",
    "            p = parse('{:d}\\t{:d}', l)\n",
    "            G.add_vertex(p[0])\n",
    "            G.add_vertex(p[1])\n",
    "            G.add_edge({p[0],p[1]})\n",
    "        return G\n",
    "    def print(self):\n",
    "        print(self.__graph_dict)"
   ]
  },
  {
   "cell_type": "markdown",
   "metadata": {},
   "source": [
    "### Example\n",
    "Let us define a small example graph $G$ that we are going to use for testing our implementation."
   ]
  },
  {
   "cell_type": "code",
   "execution_count": 5,
   "metadata": {
    "collapsed": false,
    "scrolled": false
   },
   "outputs": [
    {
     "data": {
      "image/svg+xml": [
       "<svg height=\"72.620743mm\" id=\"svg8\" inkscape:version=\"0.92.2 5c3e80d, 2017-08-06\" sodipodi:docname=\"small_example.svg\" version=\"1.1\" viewBox=\"0 0 85.566342 72.620743\" width=\"85.566345mm\" xmlns=\"http://www.w3.org/2000/svg\" xmlns:cc=\"http://creativecommons.org/ns#\" xmlns:dc=\"http://purl.org/dc/elements/1.1/\" xmlns:inkscape=\"http://www.inkscape.org/namespaces/inkscape\" xmlns:rdf=\"http://www.w3.org/1999/02/22-rdf-syntax-ns#\" xmlns:sodipodi=\"http://sodipodi.sourceforge.net/DTD/sodipodi-0.dtd\" xmlns:svg=\"http://www.w3.org/2000/svg\">\n",
       "  <defs id=\"defs2\"/>\n",
       "  <sodipodi:namedview bordercolor=\"#666666\" borderopacity=\"1.0\" id=\"base\" inkscape:current-layer=\"layer2\" inkscape:cx=\"274.21531\" inkscape:cy=\"134.01288\" inkscape:document-units=\"mm\" inkscape:pageopacity=\"0.0\" inkscape:pageshadow=\"2\" inkscape:window-height=\"1027\" inkscape:window-maximized=\"1\" inkscape:window-width=\"1920\" inkscape:window-x=\"0\" inkscape:window-y=\"0\" inkscape:zoom=\"1.979899\" pagecolor=\"#ffffff\" showgrid=\"false\"/>\n",
       "  <metadata id=\"metadata5\">\n",
       "    <rdf:RDF>\n",
       "      <cc:Work rdf:about=\"\">\n",
       "        <dc:format>image/svg+xml</dc:format>\n",
       "        <dc:type rdf:resource=\"http://purl.org/dc/dcmitype/StillImage\"/>\n",
       "        <dc:title/>\n",
       "      </cc:Work>\n",
       "    </rdf:RDF>\n",
       "  </metadata>\n",
       "  <g id=\"layer2\" inkscape:groupmode=\"layer\" inkscape:label=\"Lines\" style=\"display:inline\" transform=\"translate(-52.515243,-14.015728)\">\n",
       "    <path d=\"M 96.950891,27.313988 C 92.0372,49.047619 92.0372,49.047619 92.0372,49.047619\" id=\"path4865\" inkscape:connector-curvature=\"0\" style=\"fill:none;fill-rule:evenodd;stroke:#000000;stroke-width:0.465;stroke-linecap:butt;stroke-linejoin:miter;stroke-miterlimit:4;stroke-dasharray:none;stroke-opacity:1\"/>\n",
       "    <path d=\"m 101.67559,25.04613 26.26935,24.190476\" id=\"path4867\" inkscape:connector-curvature=\"0\" style=\"fill:none;fill-rule:evenodd;stroke:#000000;stroke-width:0.465;stroke-linecap:butt;stroke-linejoin:miter;stroke-miterlimit:4;stroke-dasharray:none;stroke-opacity:1\"/>\n",
       "    <path d=\"m 100.35268,21.07738 25.51339,0.188989\" id=\"path4869\" inkscape:connector-curvature=\"0\" style=\"fill:none;fill-rule:evenodd;stroke:#000000;stroke-width:0.465;stroke-linecap:butt;stroke-linejoin:miter;stroke-miterlimit:4;stroke-dasharray:none;stroke-opacity:1\"/>\n",
       "    <path d=\"M 62.744048,39.598213 87.879464,52.260415\" id=\"path4871\" inkscape:connector-curvature=\"0\" style=\"fill:none;fill-rule:evenodd;stroke:#000000;stroke-width:0.465;stroke-linecap:butt;stroke-linejoin:miter;stroke-miterlimit:4;stroke-dasharray:none;stroke-opacity:1\"/>\n",
       "    <path d=\"m 59.153273,43.566963 1.511904,20.97768\" id=\"path4873\" inkscape:connector-curvature=\"0\" style=\"fill:none;fill-rule:evenodd;stroke:#000000;stroke-width:0.465;stroke-linecap:butt;stroke-linejoin:miter;stroke-miterlimit:4;stroke-dasharray:none;stroke-opacity:1\"/>\n",
       "    <path d=\"M 66.145832,67.757439 89.202381,56.607143\" id=\"path4875\" inkscape:connector-curvature=\"0\" style=\"fill:none;fill-rule:evenodd;stroke:#000000;stroke-width:0.465;stroke-linecap:butt;stroke-linejoin:miter;stroke-miterlimit:4;stroke-dasharray:none;stroke-opacity:1\"/>\n",
       "    <path d=\"M 94.494047,52.449404 126.24405,52.82738\" id=\"path4877\" inkscape:connector-curvature=\"0\" style=\"fill:none;fill-rule:evenodd;stroke:#000000;stroke-width:0.465;stroke-linecap:butt;stroke-linejoin:miter;stroke-miterlimit:4;stroke-dasharray:none;stroke-opacity:1\"/>\n",
       "    <path d=\"m 131.34672,24.857142 0.18899,22.300595\" id=\"path4879\" inkscape:connector-curvature=\"0\" style=\"fill:none;fill-rule:evenodd;stroke:#000000;stroke-width:0.465;stroke-linecap:butt;stroke-linejoin:miter;stroke-miterlimit:4;stroke-dasharray:none;stroke-opacity:1\"/>\n",
       "    <path d=\"M 130.02381,56.040178 V 76.072914\" id=\"path4881\" inkscape:connector-curvature=\"0\" style=\"fill:none;fill-rule:evenodd;stroke:#000000;stroke-width:0.465;stroke-linecap:butt;stroke-linejoin:miter;stroke-miterlimit:4;stroke-dasharray:none;stroke-opacity:1\"/>\n",
       "  </g>\n",
       "  <g id=\"layer1\" inkscape:groupmode=\"layer\" inkscape:label=\"Nodes\" style=\"display:inline\" transform=\"translate(-52.515243,-14.015728)\">\n",
       "    <circle cx=\"91.219513\" cy=\"52.607594\" id=\"path4523\" r=\"6.614583\" style=\"opacity:1;fill:none;fill-opacity:1;fill-rule:nonzero;stroke:#000000;stroke-width:0.465;stroke-linecap:butt;stroke-linejoin:miter;stroke-miterlimit:4;stroke-dasharray:none;stroke-dashoffset:0;stroke-opacity:1\"/>\n",
       "    <g id=\"g4603\" style=\"fill:#ffffff;fill-opacity:1\" transform=\"translate(46.046278,23.434524)\">\n",
       "      <circle cx=\"45.106419\" cy=\"29.173071\" id=\"path4523-3\" r=\"6.6145835\" style=\"opacity:1;fill:#ffffff;fill-opacity:1;fill-rule:nonzero;stroke:#000000;stroke-width:0.465;stroke-linecap:butt;stroke-linejoin:miter;stroke-miterlimit:4;stroke-dasharray:none;stroke-dashoffset:0;stroke-opacity:1\"/>\n",
       "      <text id=\"text4527-6\" style=\"font-style:normal;font-weight:normal;font-size:7.19691706px;line-height:125%;font-family:sans-serif;letter-spacing:0px;word-spacing:0px;fill:#ffffff;fill-opacity:1;stroke:none;stroke-width:0.17992292px;stroke-linecap:butt;stroke-linejoin:miter;stroke-opacity:1\" x=\"43.052185\" xml:space=\"preserve\" y=\"30.958742\"><tspan id=\"tspan4525-7\" sodipodi:role=\"line\" style=\"fill:#ffffff;fill-opacity:1;stroke-width:0.17992292px\" x=\"43.052185\" y=\"37.326328\"/></text>\n",
       "    </g>\n",
       "    <g id=\"g4603-9\" style=\"fill:#ffffff;fill-opacity:1\" transform=\"translate(86.128087,50.616318)\">\n",
       "      <circle cx=\"45.106419\" cy=\"29.173071\" id=\"path4523-3-3\" r=\"6.6145835\" style=\"opacity:1;fill:#ffffff;fill-opacity:1;fill-rule:nonzero;stroke:#000000;stroke-width:0.465;stroke-linecap:butt;stroke-linejoin:miter;stroke-miterlimit:4;stroke-dasharray:none;stroke-dashoffset:0;stroke-opacity:1\"/>\n",
       "      <text id=\"text4527-6-1\" style=\"font-style:normal;font-weight:normal;font-size:7.19691706px;line-height:125%;font-family:sans-serif;letter-spacing:0px;word-spacing:0px;fill:#ffffff;fill-opacity:1;stroke:none;stroke-width:0.17992292px;stroke-linecap:butt;stroke-linejoin:miter;stroke-opacity:1\" x=\"43.052185\" xml:space=\"preserve\" y=\"30.958742\"><tspan id=\"tspan4525-7-9\" sodipodi:role=\"line\" style=\"fill:#ffffff;fill-opacity:1;stroke-width:0.17992292px\" x=\"43.052185\" y=\"37.326328\"/></text>\n",
       "    </g>\n",
       "    <g id=\"g4603-4\" style=\"fill:#ffffff;fill-opacity:1\" transform=\"translate(84.980053,-8.310259)\">\n",
       "      <circle cx=\"45.106419\" cy=\"29.173071\" id=\"path4523-3-5\" r=\"6.6145835\" style=\"opacity:1;fill:#ffffff;fill-opacity:1;fill-rule:nonzero;stroke:#000000;stroke-width:0.465;stroke-linecap:butt;stroke-linejoin:miter;stroke-miterlimit:4;stroke-dasharray:none;stroke-dashoffset:0;stroke-opacity:1\"/>\n",
       "      <text id=\"text4527-6-0\" style=\"font-style:normal;font-weight:normal;font-size:7.19691706px;line-height:125%;font-family:sans-serif;letter-spacing:0px;word-spacing:0px;fill:#ffffff;fill-opacity:1;stroke:none;stroke-width:0.17992292px;stroke-linecap:butt;stroke-linejoin:miter;stroke-opacity:1\" x=\"43.052185\" xml:space=\"preserve\" y=\"30.958742\"><tspan id=\"tspan4525-7-3\" sodipodi:role=\"line\" style=\"fill:#ffffff;fill-opacity:1;stroke-width:0.17992292px\" x=\"43.052185\" y=\"37.326328\"/></text>\n",
       "    </g>\n",
       "    <g id=\"g4603-3\" style=\"fill:#ffffff;fill-opacity:1\" transform=\"translate(16.986541,39.35273)\">\n",
       "      <circle cx=\"45.106419\" cy=\"29.173071\" id=\"path4523-3-2\" r=\"6.6145835\" style=\"opacity:1;fill:#ffffff;fill-opacity:1;fill-rule:nonzero;stroke:#000000;stroke-width:0.465;stroke-linecap:butt;stroke-linejoin:miter;stroke-miterlimit:4;stroke-dasharray:none;stroke-dashoffset:0;stroke-opacity:1\"/>\n",
       "      <text id=\"text4527-6-06\" style=\"font-style:normal;font-weight:normal;font-size:7.19691706px;line-height:125%;font-family:sans-serif;letter-spacing:0px;word-spacing:0px;fill:#ffffff;fill-opacity:1;stroke:none;stroke-width:0.17992292px;stroke-linecap:butt;stroke-linejoin:miter;stroke-opacity:1\" x=\"43.052185\" xml:space=\"preserve\" y=\"30.958742\"><tspan id=\"tspan4525-7-1\" sodipodi:role=\"line\" style=\"fill:#ffffff;fill-opacity:1;stroke-width:0.17992292px\" x=\"43.052185\" y=\"37.326328\"/></text>\n",
       "    </g>\n",
       "    <g id=\"g4603-47\" style=\"fill:#ffffff;fill-opacity:1\" transform=\"translate(85.349764,23.024057)\">\n",
       "      <circle cx=\"45.106419\" cy=\"29.173071\" id=\"path4523-3-6\" r=\"6.6145835\" style=\"opacity:1;fill:#ffffff;fill-opacity:1;fill-rule:nonzero;stroke:#000000;stroke-width:0.465;stroke-linecap:butt;stroke-linejoin:miter;stroke-miterlimit:4;stroke-dasharray:none;stroke-dashoffset:0;stroke-opacity:1\"/>\n",
       "      <text id=\"text4527-6-5\" style=\"font-style:normal;font-weight:normal;font-size:7.19691706px;line-height:125%;font-family:sans-serif;letter-spacing:0px;word-spacing:0px;fill:#ffffff;fill-opacity:1;stroke:none;stroke-width:0.17992292px;stroke-linecap:butt;stroke-linejoin:miter;stroke-opacity:1\" x=\"43.052185\" xml:space=\"preserve\" y=\"30.958742\"><tspan id=\"tspan4525-7-6\" sodipodi:role=\"line\" style=\"fill:#ffffff;fill-opacity:1;stroke-width:0.17992292px\" x=\"43.052185\" y=\"37.326328\"/></text>\n",
       "    </g>\n",
       "    <g id=\"g4603-7\" style=\"fill:#ffffff;fill-opacity:1\" transform=\"translate(52.162884,-6.000874)\">\n",
       "      <circle cx=\"45.106419\" cy=\"29.173071\" id=\"path4523-3-4\" r=\"6.6145835\" style=\"opacity:1;fill:#ffffff;fill-opacity:1;fill-rule:nonzero;stroke:#000000;stroke-width:0.465;stroke-linecap:butt;stroke-linejoin:miter;stroke-miterlimit:4;stroke-dasharray:none;stroke-dashoffset:0;stroke-opacity:1\"/>\n",
       "      <text id=\"text4527-6-52\" style=\"font-style:normal;font-weight:normal;font-size:7.19691706px;line-height:125%;font-family:sans-serif;letter-spacing:0px;word-spacing:0px;fill:#ffffff;fill-opacity:1;stroke:none;stroke-width:0.17992292px;stroke-linecap:butt;stroke-linejoin:miter;stroke-opacity:1\" x=\"43.052185\" xml:space=\"preserve\" y=\"30.958742\"><tspan id=\"tspan4525-7-5\" sodipodi:role=\"line\" style=\"fill:#ffffff;fill-opacity:1;stroke-width:0.17992292px\" x=\"43.052185\" y=\"37.326328\"/></text>\n",
       "    </g>\n",
       "    <g id=\"g4603-43\" style=\"fill:#ffffff;fill-opacity:1\" transform=\"translate(14.255908,9.440796)\">\n",
       "      <circle cx=\"45.106419\" cy=\"29.173071\" id=\"path4523-3-0\" r=\"6.6145835\" style=\"opacity:1;fill:#ffffff;fill-opacity:1;fill-rule:nonzero;stroke:#000000;stroke-width:0.465;stroke-linecap:butt;stroke-linejoin:miter;stroke-miterlimit:4;stroke-dasharray:none;stroke-dashoffset:0;stroke-opacity:1\"/>\n",
       "      <text id=\"text4527-6-7\" style=\"font-style:normal;font-weight:normal;font-size:7.19691706px;line-height:125%;font-family:sans-serif;letter-spacing:0px;word-spacing:0px;fill:#ffffff;fill-opacity:1;stroke:none;stroke-width:0.17992292px;stroke-linecap:butt;stroke-linejoin:miter;stroke-opacity:1\" x=\"43.052185\" xml:space=\"preserve\" y=\"30.958742\"><tspan id=\"tspan4525-7-8\" sodipodi:role=\"line\" style=\"fill:#ffffff;fill-opacity:1;stroke-width:0.17992292px\" x=\"43.052185\" y=\"37.326328\"/></text>\n",
       "    </g>\n",
       "  </g>\n",
       "  <g id=\"layer3\" inkscape:groupmode=\"layer\" inkscape:label=\"Letters\" style=\"display:inline\" transform=\"translate(-52.515243,-14.015728)\">\n",
       "    <text id=\"text4527\" style=\"font-style:normal;font-weight:normal;font-size:7.19691706px;line-height:125%;font-family:sans-serif;letter-spacing:0px;word-spacing:0px;display:inline;fill:#000000;fill-opacity:1;stroke:none;stroke-width:0.17992292px;stroke-linecap:butt;stroke-linejoin:miter;stroke-opacity:1\" x=\"89.165283\" xml:space=\"preserve\" y=\"54.487759\"><tspan id=\"tspan4525\" sodipodi:role=\"line\" style=\"stroke-width:0.17992292px\" x=\"89.165283\" y=\"54.487759\">c</tspan></text>\n",
       "    <text id=\"text4527-61\" style=\"font-style:normal;font-weight:normal;font-size:7.19691706px;line-height:125%;font-family:sans-serif;letter-spacing:0px;word-spacing:0px;display:inline;fill:#000000;fill-opacity:1;stroke:none;stroke-width:0.17992292px;stroke-linecap:butt;stroke-linejoin:miter;stroke-opacity:1\" x=\"129.24709\" xml:space=\"preserve\" y=\"81.575058\"><tspan id=\"tspan4525-2\" sodipodi:role=\"line\" style=\"stroke-width:0.17992292px\" x=\"129.24709\" y=\"81.575058\">e</tspan></text>\n",
       "    <text id=\"text4527-4\" style=\"font-style:normal;font-weight:normal;font-size:7.19691706px;line-height:125%;font-family:sans-serif;letter-spacing:0px;word-spacing:0px;display:inline;fill:#000000;fill-opacity:1;stroke:none;stroke-width:0.17992292px;stroke-linecap:butt;stroke-linejoin:miter;stroke-opacity:1\" x=\"127.91007\" xml:space=\"preserve\" y=\"22.365\"><tspan id=\"tspan4525-78\" sodipodi:role=\"line\" style=\"stroke-width:0.17992292px\" x=\"127.91007\" y=\"22.365\">g</tspan></text>\n",
       "    <text id=\"text4527-610\" style=\"font-style:normal;font-weight:normal;font-size:7.19691706px;line-height:125%;font-family:sans-serif;letter-spacing:0px;word-spacing:0px;display:inline;fill:#000000;fill-opacity:1;stroke:none;stroke-width:0.17992292px;stroke-linecap:butt;stroke-linejoin:miter;stroke-opacity:1\" x=\"60.483521\" xml:space=\"preserve\" y=\"70.972931\"><tspan id=\"tspan4525-6\" sodipodi:role=\"line\" style=\"stroke-width:0.17992292px\" x=\"60.483521\" y=\"70.972931\">f</tspan></text>\n",
       "    <text id=\"text4527-5\" style=\"font-style:normal;font-weight:normal;font-size:7.19691706px;line-height:125%;font-family:sans-serif;letter-spacing:0px;word-spacing:0px;display:inline;fill:#000000;fill-opacity:1;stroke:none;stroke-width:0.17992292px;stroke-linecap:butt;stroke-linejoin:miter;stroke-opacity:1\" x=\"128.09079\" xml:space=\"preserve\" y=\"54.455269\"><tspan id=\"tspan4525-5\" sodipodi:role=\"line\" style=\"stroke-width:0.17992292px\" x=\"128.09079\" y=\"54.455269\">d</tspan></text>\n",
       "    <text id=\"text4527-9\" style=\"font-style:normal;font-weight:normal;font-size:7.19691706px;line-height:125%;font-family:sans-serif;letter-spacing:0px;word-spacing:0px;display:inline;fill:#000000;fill-opacity:1;stroke:none;stroke-width:0.17992292px;stroke-linecap:butt;stroke-linejoin:miter;stroke-opacity:1\" x=\"95.281883\" xml:space=\"preserve\" y=\"24.957867\"><tspan id=\"tspan4525-3\" sodipodi:role=\"line\" style=\"stroke-width:0.17992292px\" x=\"95.281883\" y=\"24.957867\">a</tspan></text>\n",
       "    <text id=\"text4527-47\" style=\"font-style:normal;font-weight:normal;font-size:7.19691706px;line-height:125%;font-family:sans-serif;letter-spacing:0px;word-spacing:0px;display:inline;fill:#000000;fill-opacity:1;stroke:none;stroke-width:0.17992292px;stroke-linecap:butt;stroke-linejoin:miter;stroke-opacity:1\" x=\"57.374908\" xml:space=\"preserve\" y=\"40.777515\"><tspan id=\"tspan4525-4\" sodipodi:role=\"line\" style=\"stroke-width:0.17992292px\" x=\"57.374908\" y=\"40.777515\">b</tspan></text>\n",
       "  </g>\n",
       "</svg>"
      ],
      "text/plain": [
       "<IPython.core.display.SVG object>"
      ]
     },
     "metadata": {},
     "output_type": "display_data"
    },
    {
     "data": {
      "text/markdown": [
       "Vertices of $G$:\n",
       "\n",
       "    ['c', 'b', 'd', 'e', 'a', 'g', 'f']"
      ],
      "text/plain": [
       "<IPython.core.display.Markdown object>"
      ]
     },
     "metadata": {},
     "output_type": "display_data"
    },
    {
     "data": {
      "text/markdown": [
       "Edges of $G$:\n",
       "\n",
       "    [{'c', 'd'}, {'c', 'f'}, {'c', 'b'}, {'f', 'b'}, {'d', 'e'}, {'d', 'g'}, {'c', 'a'}, {'d', 'a'}, {'a', 'g'}]"
      ],
      "text/plain": [
       "<IPython.core.display.Markdown object>"
      ]
     },
     "metadata": {},
     "output_type": "display_data"
    }
   ],
   "source": [
    "G_map = {\n",
    "      \"a\": [\"c\", \"d\", \"g\"],\n",
    "      \"b\": [\"c\", \"f\"],\n",
    "      \"c\": [\"a\", \"b\", \"d\", \"f\"],\n",
    "      \"d\": [\"a\", \"c\", \"e\", \"g\"],\n",
    "      \"e\": [\"d\"],\n",
    "      \"f\": [\"b\", \"c\"],\n",
    "      \"g\": [\"a\", \"d\"]\n",
    "}\n",
    "G = Graph(G_map,\"$G$\")\n",
    "display(SVG(filename=\"small_example.svg\"))\n",
    "display(Markdown('''Vertices of $G$:\\n\n",
    "    ''' + str(G.vertices()))\n",
    "        , Markdown('''Edges of $G$:\\n\n",
    "    ''' + str(G.edges())))"
   ]
  },
  {
   "cell_type": "markdown",
   "metadata": {},
   "source": [
    "## Degrees\n",
    "We then implemented methods related to *node degrees* in a graph:\n",
    "- `vertex_degree`: returns the degree of a given node;\n",
    "- `vertex_degrees`: returns a map $V \\rightarrow \\mathbb{N}$ giving the degree of each node;\n",
    "- `find_isolated_vertices`: returns list of vertices with degree 0;\n",
    "- `degree_sequence`: returns a tuple of all values of degrees of the nodes (with repetition) sorted in *decreasing order*;\n",
    "- `density`: returns the **density** of a graph, which is the number of edges divided by the maximum possible number of edges, i.e. $$\\frac{2|E|}{|V|(|V|-1)}.$$\n",
    "\n",
    "\n",
    "We test these functions over $G$, over $K_5$ (the clique of size 5) and $D_5$ the disconnected graph of size 5."
   ]
  },
  {
   "cell_type": "code",
   "execution_count": 6,
   "metadata": {
    "collapsed": false
   },
   "outputs": [
    {
     "data": {
      "text/markdown": [
       "Degree of vertex `d` in $G$:\n",
       "\n",
       "    4"
      ],
      "text/plain": [
       "<IPython.core.display.Markdown object>"
      ]
     },
     "metadata": {},
     "output_type": "display_data"
    },
    {
     "data": {
      "text/markdown": [
       "Degrees of vertices in $G$:\n",
       "\n",
       "    {'d': 4, 'g': 2, 'c': 4, 'e': 1, 'a': 3, 'b': 2, 'f': 2}"
      ],
      "text/plain": [
       "<IPython.core.display.Markdown object>"
      ]
     },
     "metadata": {},
     "output_type": "display_data"
    },
    {
     "data": {
      "text/markdown": [
       "Degree sequence of the $G$:\n",
       "\n",
       "    (4, 4, 3, 2, 2, 2, 1)"
      ],
      "text/plain": [
       "<IPython.core.display.Markdown object>"
      ]
     },
     "metadata": {},
     "output_type": "display_data"
    },
    {
     "data": {
      "text/markdown": [
       "Isolated vertices of $D_5$:\n",
       "\n",
       "    {1, 2, 3, 4, 5}"
      ],
      "text/plain": [
       "<IPython.core.display.Markdown object>"
      ]
     },
     "metadata": {},
     "output_type": "display_data"
    },
    {
     "data": {
      "text/markdown": [
       "Density of $G$:\n",
       "\n",
       "    0.42857142857142855"
      ],
      "text/plain": [
       "<IPython.core.display.Markdown object>"
      ]
     },
     "metadata": {},
     "output_type": "display_data"
    },
    {
     "data": {
      "text/markdown": [
       "Density of $K_5$:\n",
       "\n",
       "    1.0"
      ],
      "text/plain": [
       "<IPython.core.display.Markdown object>"
      ]
     },
     "metadata": {},
     "output_type": "display_data"
    },
    {
     "data": {
      "text/markdown": [
       "Density of $D_5$:\n",
       "\n",
       "    0.0"
      ],
      "text/plain": [
       "<IPython.core.display.Markdown object>"
      ]
     },
     "metadata": {},
     "output_type": "display_data"
    }
   ],
   "source": [
    "D5 = G.no_edges(5)\n",
    "K5 = G.clique(5)\n",
    "display(Markdown('''Degree of vertex `d` in $G$:\\n\n",
    "    ''' + str(G.vertex_degree(\"d\")))\n",
    "       ,Markdown('''Degrees of vertices in $G$:\\n\n",
    "    ''' + str(G.vertex_degrees()))\n",
    "        ,Markdown('''Degree sequence of the $G$:\\n\n",
    "    ''' + str(G.degree_sequence()))\n",
    "       ,Markdown('''Isolated vertices of $D_5$:\\n\n",
    "    ''' + str(D5.find_isolated_vertices()))\n",
    "       ,Markdown('''Density of $G$:\\n\n",
    "    ''' + str(G.density()))\n",
    "       ,Markdown('''Density of $K_5$:\\n\n",
    "    ''' + str(K5.density()))\n",
    "       ,Markdown('''Density of $D_5$:\\n\n",
    "    ''' + str(D5.density())))"
   ]
  },
  {
   "cell_type": "markdown",
   "metadata": {
    "collapsed": true
   },
   "source": [
    "The **Erdős–Gallai theorem** gives a sufficient and necessary condition for a given sequence $d_1\\geq ...\\geq d_n$ to be a valid degree sequence of some G. We implemented it in a static method `erdos_gallai` that checks if the given tuple satisfies the condition."
   ]
  },
  {
   "cell_type": "code",
   "execution_count": 7,
   "metadata": {
    "collapsed": false
   },
   "outputs": [
    {
     "data": {
      "text/markdown": [
       "(4, 4, 3, 2, 2, 2, 1) is a valid degree sequence"
      ],
      "text/plain": [
       "<IPython.core.display.Markdown object>"
      ]
     },
     "metadata": {},
     "output_type": "display_data"
    },
    {
     "data": {
      "text/markdown": [
       "(2, 1) is not a valid degree sequence"
      ],
      "text/plain": [
       "<IPython.core.display.Markdown object>"
      ]
     },
     "metadata": {},
     "output_type": "display_data"
    }
   ],
   "source": [
    "def display_EG(t):\n",
    "    if G.erdos_gallai(t):\n",
    "        return str(t) + \" is a valid degree sequence\"\n",
    "    else:\n",
    "        return str(t) + \" is not a valid degree sequence\"\n",
    "display(Markdown(display_EG(G.degree_sequence()))\n",
    "        , Markdown(display_EG(tuple([2,1]))))"
   ]
  },
  {
   "cell_type": "markdown",
   "metadata": {},
   "source": [
    "In a graph, a **triplet** consists of three nodes that are connected by either two (open triplet) or three (closed triplet) edges. A **triangle** consists of three closed triplets, each one centered on each node of the triangle. The **global clustering coefficient** of a graph is the number of closed triplets divided by the total number of triplets. Remark that this measure is not defined over graphs with no triplet."
   ]
  },
  {
   "cell_type": "code",
   "execution_count": 8,
   "metadata": {
    "collapsed": false
   },
   "outputs": [
    {
     "data": {
      "text/markdown": [
       "Global clustering coefficient of example graph:\n",
       "\n",
       "    0.5"
      ],
      "text/plain": [
       "<IPython.core.display.Markdown object>"
      ]
     },
     "metadata": {},
     "output_type": "display_data"
    },
    {
     "data": {
      "text/markdown": [
       "Global clustering coefficient of $K_5$:\n",
       "\n",
       "    1.0"
      ],
      "text/plain": [
       "<IPython.core.display.Markdown object>"
      ]
     },
     "metadata": {},
     "output_type": "display_data"
    }
   ],
   "source": [
    "display(Markdown('''Global clustering coefficient of example graph:\\n\n",
    "    ''' + str(G.global_clustering_coefficient()))\n",
    "       ,Markdown('''Global clustering coefficient of $K_5$:\\n\n",
    "    ''' + str(K5.global_clustering_coefficient())))"
   ]
  },
  {
   "cell_type": "markdown",
   "metadata": {},
   "source": [
    "## Graph traversal\n",
    "In this section, we present the function we implemented relying on graph traversal (in all these functions we used the **Breadth First Search** (BFS) traversal method).\n",
    "### Connected components\n",
    "We implemented a function `connected_components` which returns a map $V \\rightarrow V$ assigning to each node the choosen label of its component (the label is one of the node of the component).\n",
    "\n",
    "In order to test this function, we define a copy of our example graph in which we had another connected component, call it $G_2$."
   ]
  },
  {
   "cell_type": "code",
   "execution_count": 9,
   "metadata": {
    "collapsed": false
   },
   "outputs": [
    {
     "data": {
      "image/svg+xml": [
       "<svg height=\"72.620743mm\" id=\"svg8\" inkscape:version=\"0.92.2 5c3e80d, 2017-08-06\" sodipodi:docname=\"small_example2.svg\" version=\"1.1\" viewBox=\"0 0 159.78059 72.620743\" width=\"159.78059mm\" xmlns=\"http://www.w3.org/2000/svg\" xmlns:cc=\"http://creativecommons.org/ns#\" xmlns:dc=\"http://purl.org/dc/elements/1.1/\" xmlns:inkscape=\"http://www.inkscape.org/namespaces/inkscape\" xmlns:rdf=\"http://www.w3.org/1999/02/22-rdf-syntax-ns#\" xmlns:sodipodi=\"http://sodipodi.sourceforge.net/DTD/sodipodi-0.dtd\" xmlns:svg=\"http://www.w3.org/2000/svg\">\n",
       "  <defs id=\"defs2\"/>\n",
       "  <sodipodi:namedview bordercolor=\"#666666\" borderopacity=\"1.0\" id=\"base\" inkscape:current-layer=\"layer3\" inkscape:cx=\"497.63517\" inkscape:cy=\"169.3904\" inkscape:document-units=\"mm\" inkscape:pageopacity=\"0.0\" inkscape:pageshadow=\"2\" inkscape:window-height=\"1027\" inkscape:window-maximized=\"1\" inkscape:window-width=\"1920\" inkscape:window-x=\"0\" inkscape:window-y=\"0\" inkscape:zoom=\"1.979899\" pagecolor=\"#ffffff\" showgrid=\"false\"/>\n",
       "  <metadata id=\"metadata5\">\n",
       "    <rdf:RDF>\n",
       "      <cc:Work rdf:about=\"\">\n",
       "        <dc:format>image/svg+xml</dc:format>\n",
       "        <dc:type rdf:resource=\"http://purl.org/dc/dcmitype/StillImage\"/>\n",
       "        <dc:title/>\n",
       "      </cc:Work>\n",
       "    </rdf:RDF>\n",
       "  </metadata>\n",
       "  <g id=\"layer2\" inkscape:groupmode=\"layer\" inkscape:label=\"Lines\" style=\"display:inline\" transform=\"translate(-52.515243,-14.015728)\">\n",
       "    <path d=\"M 96.950891,27.313988 C 92.0372,49.047619 92.0372,49.047619 92.0372,49.047619\" id=\"path4865\" inkscape:connector-curvature=\"0\" style=\"fill:none;fill-rule:evenodd;stroke:#000000;stroke-width:0.465;stroke-linecap:butt;stroke-linejoin:miter;stroke-miterlimit:4;stroke-dasharray:none;stroke-opacity:1\"/>\n",
       "    <path d=\"m 101.67559,25.04613 26.26935,24.190476\" id=\"path4867\" inkscape:connector-curvature=\"0\" style=\"fill:none;fill-rule:evenodd;stroke:#000000;stroke-width:0.465;stroke-linecap:butt;stroke-linejoin:miter;stroke-miterlimit:4;stroke-dasharray:none;stroke-opacity:1\"/>\n",
       "    <path d=\"m 100.35268,21.07738 25.51339,0.188989\" id=\"path4869\" inkscape:connector-curvature=\"0\" style=\"fill:none;fill-rule:evenodd;stroke:#000000;stroke-width:0.465;stroke-linecap:butt;stroke-linejoin:miter;stroke-miterlimit:4;stroke-dasharray:none;stroke-opacity:1\"/>\n",
       "    <path d=\"M 62.744048,39.598213 87.879464,52.260415\" id=\"path4871\" inkscape:connector-curvature=\"0\" style=\"fill:none;fill-rule:evenodd;stroke:#000000;stroke-width:0.465;stroke-linecap:butt;stroke-linejoin:miter;stroke-miterlimit:4;stroke-dasharray:none;stroke-opacity:1\"/>\n",
       "    <path d=\"m 59.153273,43.566963 1.511904,20.97768\" id=\"path4873\" inkscape:connector-curvature=\"0\" style=\"fill:none;fill-rule:evenodd;stroke:#000000;stroke-width:0.465;stroke-linecap:butt;stroke-linejoin:miter;stroke-miterlimit:4;stroke-dasharray:none;stroke-opacity:1\"/>\n",
       "    <path d=\"M 66.145832,67.757439 89.202381,56.607143\" id=\"path4875\" inkscape:connector-curvature=\"0\" style=\"fill:none;fill-rule:evenodd;stroke:#000000;stroke-width:0.465;stroke-linecap:butt;stroke-linejoin:miter;stroke-miterlimit:4;stroke-dasharray:none;stroke-opacity:1\"/>\n",
       "    <path d=\"M 94.494047,52.449404 126.24405,52.82738\" id=\"path4877\" inkscape:connector-curvature=\"0\" style=\"fill:none;fill-rule:evenodd;stroke:#000000;stroke-width:0.465;stroke-linecap:butt;stroke-linejoin:miter;stroke-miterlimit:4;stroke-dasharray:none;stroke-opacity:1\"/>\n",
       "    <path d=\"m 131.34672,24.857142 0.18899,22.300595\" id=\"path4879\" inkscape:connector-curvature=\"0\" style=\"fill:none;fill-rule:evenodd;stroke:#000000;stroke-width:0.465;stroke-linecap:butt;stroke-linejoin:miter;stroke-miterlimit:4;stroke-dasharray:none;stroke-opacity:1\"/>\n",
       "    <path d=\"M 130.02381,56.040178 V 76.072914\" id=\"path4881\" inkscape:connector-curvature=\"0\" style=\"fill:none;fill-rule:evenodd;stroke:#000000;stroke-width:0.465;stroke-linecap:butt;stroke-linejoin:miter;stroke-miterlimit:4;stroke-dasharray:none;stroke-opacity:1\"/>\n",
       "    <path d=\"m 155.14674,72.471187 c 8.41899,-11.091685 8.41899,-11.091685 8.41899,-11.091685\" id=\"path3993\" inkscape:connector-curvature=\"0\" style=\"display:inline;fill:none;stroke:#000000;stroke-width:0.465;stroke-linecap:butt;stroke-linejoin:miter;stroke-miterlimit:4;stroke-dasharray:none;stroke-opacity:1\"/>\n",
       "    <path d=\"m 168.64385,52.960513 c 7.08264,-9.621705 7.21628,-9.621705 7.21628,-9.621705\" id=\"path3995\" inkscape:connector-curvature=\"0\" style=\"display:inline;fill:none;stroke:#000000;stroke-width:0.465;stroke-linecap:butt;stroke-linejoin:miter;stroke-miterlimit:4;stroke-dasharray:none;stroke-opacity:1\"/>\n",
       "    <path d=\"m 189.49087,25.565386 c -8.68626,11.091685 -8.68626,11.091685 -8.68626,11.091685\" id=\"path3997\" inkscape:connector-curvature=\"0\" style=\"display:inline;fill:none;stroke:#000000;stroke-width:0.465;stroke-linecap:butt;stroke-linejoin:miter;stroke-miterlimit:4;stroke-dasharray:none;stroke-opacity:1\"/>\n",
       "    <path d=\"m 193.49991,25.565385 c 8.68626,11.091685 8.68626,11.091685 8.68626,11.091685\" id=\"path3997-6\" inkscape:connector-curvature=\"0\" style=\"display:inline;fill:none;stroke:#000000;stroke-width:0.465;stroke-linecap:butt;stroke-linejoin:miter;stroke-miterlimit:4;stroke-dasharray:none;stroke-opacity:1\"/>\n",
       "  </g>\n",
       "  <g id=\"layer1\" inkscape:groupmode=\"layer\" inkscape:label=\"Nodes\" style=\"display:inline\" transform=\"translate(-52.515243,-14.015728)\">\n",
       "    <circle cx=\"91.219513\" cy=\"52.607594\" id=\"path4523\" r=\"6.614583\" style=\"opacity:1;fill:none;fill-opacity:1;fill-rule:nonzero;stroke:#000000;stroke-width:0.465;stroke-linecap:butt;stroke-linejoin:miter;stroke-miterlimit:4;stroke-dasharray:none;stroke-dashoffset:0;stroke-opacity:1\"/>\n",
       "    <g id=\"g4603\" style=\"fill:#ffffff;fill-opacity:1\" transform=\"translate(46.046278,23.434524)\">\n",
       "      <circle cx=\"45.106419\" cy=\"29.173071\" id=\"path4523-3\" r=\"6.6145835\" style=\"opacity:1;fill:#ffffff;fill-opacity:1;fill-rule:nonzero;stroke:#000000;stroke-width:0.465;stroke-linecap:butt;stroke-linejoin:miter;stroke-miterlimit:4;stroke-dasharray:none;stroke-dashoffset:0;stroke-opacity:1\"/>\n",
       "      <text id=\"text4527-6\" style=\"font-style:normal;font-weight:normal;font-size:7.19691706px;line-height:125%;font-family:sans-serif;letter-spacing:0px;word-spacing:0px;fill:#ffffff;fill-opacity:1;stroke:none;stroke-width:0.17992292px;stroke-linecap:butt;stroke-linejoin:miter;stroke-opacity:1\" x=\"43.052185\" xml:space=\"preserve\" y=\"30.958742\"><tspan id=\"tspan4525-7\" sodipodi:role=\"line\" style=\"fill:#ffffff;fill-opacity:1;stroke-width:0.17992292px\" x=\"43.052185\" y=\"37.326328\"/></text>\n",
       "    </g>\n",
       "    <g id=\"g4603-9\" style=\"fill:#ffffff;fill-opacity:1\" transform=\"translate(86.128087,50.616318)\">\n",
       "      <circle cx=\"45.106419\" cy=\"29.173071\" id=\"path4523-3-3\" r=\"6.6145835\" style=\"opacity:1;fill:#ffffff;fill-opacity:1;fill-rule:nonzero;stroke:#000000;stroke-width:0.465;stroke-linecap:butt;stroke-linejoin:miter;stroke-miterlimit:4;stroke-dasharray:none;stroke-dashoffset:0;stroke-opacity:1\"/>\n",
       "      <text id=\"text4527-6-1\" style=\"font-style:normal;font-weight:normal;font-size:7.19691706px;line-height:125%;font-family:sans-serif;letter-spacing:0px;word-spacing:0px;fill:#ffffff;fill-opacity:1;stroke:none;stroke-width:0.17992292px;stroke-linecap:butt;stroke-linejoin:miter;stroke-opacity:1\" x=\"43.052185\" xml:space=\"preserve\" y=\"30.958742\"><tspan id=\"tspan4525-7-9\" sodipodi:role=\"line\" style=\"fill:#ffffff;fill-opacity:1;stroke-width:0.17992292px\" x=\"43.052185\" y=\"37.326328\"/></text>\n",
       "    </g>\n",
       "    <g id=\"g4603-4\" style=\"fill:#ffffff;fill-opacity:1\" transform=\"translate(84.980053,-8.310259)\">\n",
       "      <circle cx=\"45.106419\" cy=\"29.173071\" id=\"path4523-3-5\" r=\"6.6145835\" style=\"opacity:1;fill:#ffffff;fill-opacity:1;fill-rule:nonzero;stroke:#000000;stroke-width:0.465;stroke-linecap:butt;stroke-linejoin:miter;stroke-miterlimit:4;stroke-dasharray:none;stroke-dashoffset:0;stroke-opacity:1\"/>\n",
       "      <text id=\"text4527-6-0\" style=\"font-style:normal;font-weight:normal;font-size:7.19691706px;line-height:125%;font-family:sans-serif;letter-spacing:0px;word-spacing:0px;fill:#ffffff;fill-opacity:1;stroke:none;stroke-width:0.17992292px;stroke-linecap:butt;stroke-linejoin:miter;stroke-opacity:1\" x=\"43.052185\" xml:space=\"preserve\" y=\"30.958742\"><tspan id=\"tspan4525-7-3\" sodipodi:role=\"line\" style=\"fill:#ffffff;fill-opacity:1;stroke-width:0.17992292px\" x=\"43.052185\" y=\"37.326328\"/></text>\n",
       "    </g>\n",
       "    <g id=\"g4603-3\" style=\"fill:#ffffff;fill-opacity:1\" transform=\"translate(16.986541,39.35273)\">\n",
       "      <circle cx=\"45.106419\" cy=\"29.173071\" id=\"path4523-3-2\" r=\"6.6145835\" style=\"opacity:1;fill:#ffffff;fill-opacity:1;fill-rule:nonzero;stroke:#000000;stroke-width:0.465;stroke-linecap:butt;stroke-linejoin:miter;stroke-miterlimit:4;stroke-dasharray:none;stroke-dashoffset:0;stroke-opacity:1\"/>\n",
       "      <text id=\"text4527-6-06\" style=\"font-style:normal;font-weight:normal;font-size:7.19691706px;line-height:125%;font-family:sans-serif;letter-spacing:0px;word-spacing:0px;fill:#ffffff;fill-opacity:1;stroke:none;stroke-width:0.17992292px;stroke-linecap:butt;stroke-linejoin:miter;stroke-opacity:1\" x=\"43.052185\" xml:space=\"preserve\" y=\"30.958742\"><tspan id=\"tspan4525-7-1\" sodipodi:role=\"line\" style=\"fill:#ffffff;fill-opacity:1;stroke-width:0.17992292px\" x=\"43.052185\" y=\"37.326328\"/></text>\n",
       "    </g>\n",
       "    <g id=\"g4603-47\" style=\"fill:#ffffff;fill-opacity:1\" transform=\"translate(85.349764,23.024057)\">\n",
       "      <circle cx=\"45.106419\" cy=\"29.173071\" id=\"path4523-3-6\" r=\"6.6145835\" style=\"opacity:1;fill:#ffffff;fill-opacity:1;fill-rule:nonzero;stroke:#000000;stroke-width:0.465;stroke-linecap:butt;stroke-linejoin:miter;stroke-miterlimit:4;stroke-dasharray:none;stroke-dashoffset:0;stroke-opacity:1\"/>\n",
       "      <text id=\"text4527-6-5\" style=\"font-style:normal;font-weight:normal;font-size:7.19691706px;line-height:125%;font-family:sans-serif;letter-spacing:0px;word-spacing:0px;fill:#ffffff;fill-opacity:1;stroke:none;stroke-width:0.17992292px;stroke-linecap:butt;stroke-linejoin:miter;stroke-opacity:1\" x=\"43.052185\" xml:space=\"preserve\" y=\"30.958742\"><tspan id=\"tspan4525-7-6\" sodipodi:role=\"line\" style=\"fill:#ffffff;fill-opacity:1;stroke-width:0.17992292px\" x=\"43.052185\" y=\"37.326328\"/></text>\n",
       "    </g>\n",
       "    <g id=\"g4603-7\" style=\"fill:#ffffff;fill-opacity:1\" transform=\"translate(52.162884,-6.000874)\">\n",
       "      <circle cx=\"45.106419\" cy=\"29.173071\" id=\"path4523-3-4\" r=\"6.6145835\" style=\"opacity:1;fill:#ffffff;fill-opacity:1;fill-rule:nonzero;stroke:#000000;stroke-width:0.465;stroke-linecap:butt;stroke-linejoin:miter;stroke-miterlimit:4;stroke-dasharray:none;stroke-dashoffset:0;stroke-opacity:1\"/>\n",
       "      <text id=\"text4527-6-52\" style=\"font-style:normal;font-weight:normal;font-size:7.19691706px;line-height:125%;font-family:sans-serif;letter-spacing:0px;word-spacing:0px;fill:#ffffff;fill-opacity:1;stroke:none;stroke-width:0.17992292px;stroke-linecap:butt;stroke-linejoin:miter;stroke-opacity:1\" x=\"43.052185\" xml:space=\"preserve\" y=\"30.958742\"><tspan id=\"tspan4525-7-5\" sodipodi:role=\"line\" style=\"fill:#ffffff;fill-opacity:1;stroke-width:0.17992292px\" x=\"43.052185\" y=\"37.326328\"/></text>\n",
       "    </g>\n",
       "    <g id=\"g4603-43\" style=\"fill:#ffffff;fill-opacity:1\" transform=\"translate(14.255908,9.440796)\">\n",
       "      <circle cx=\"45.106419\" cy=\"29.173071\" id=\"path4523-3-0\" r=\"6.6145835\" style=\"opacity:1;fill:#ffffff;fill-opacity:1;fill-rule:nonzero;stroke:#000000;stroke-width:0.465;stroke-linecap:butt;stroke-linejoin:miter;stroke-miterlimit:4;stroke-dasharray:none;stroke-dashoffset:0;stroke-opacity:1\"/>\n",
       "      <text id=\"text4527-6-7\" style=\"font-style:normal;font-weight:normal;font-size:7.19691706px;line-height:125%;font-family:sans-serif;letter-spacing:0px;word-spacing:0px;fill:#ffffff;fill-opacity:1;stroke:none;stroke-width:0.17992292px;stroke-linecap:butt;stroke-linejoin:miter;stroke-opacity:1\" x=\"43.052185\" xml:space=\"preserve\" y=\"30.958742\"><tspan id=\"tspan4525-7-8\" sodipodi:role=\"line\" style=\"fill:#ffffff;fill-opacity:1;stroke-width:0.17992292px\" x=\"43.052185\" y=\"37.326328\"/></text>\n",
       "    </g>\n",
       "    <g id=\"g4603-9-2\" style=\"display:inline;fill:#ffffff;fill-opacity:1\" transform=\"translate(108.01288,47.45192)\">\n",
       "      <circle cx=\"45.106419\" cy=\"29.173071\" id=\"path4523-3-3-7\" r=\"6.6145835\" style=\"opacity:1;fill:#ffffff;fill-opacity:1;fill-rule:nonzero;stroke:#000000;stroke-width:0.465;stroke-linecap:butt;stroke-linejoin:miter;stroke-miterlimit:4;stroke-dasharray:none;stroke-dashoffset:0;stroke-opacity:1\"/>\n",
       "      <text id=\"text4527-6-1-0\" style=\"font-style:normal;font-weight:normal;font-size:7.19691706px;line-height:125%;font-family:sans-serif;letter-spacing:0px;word-spacing:0px;fill:#ffffff;fill-opacity:1;stroke:none;stroke-width:0.17992292px;stroke-linecap:butt;stroke-linejoin:miter;stroke-opacity:1\" x=\"43.052185\" xml:space=\"preserve\" y=\"30.958742\"><tspan id=\"tspan4525-7-9-9\" sodipodi:role=\"line\" style=\"fill:#ffffff;fill-opacity:1;stroke-width:0.17992292px\" x=\"43.052185\" y=\"37.326328\"/></text>\n",
       "    </g>\n",
       "    <g id=\"g4603-9-0\" style=\"display:inline;fill:#ffffff;fill-opacity:1\" transform=\"translate(120.46383,28.124669)\">\n",
       "      <circle cx=\"45.106419\" cy=\"29.173071\" id=\"path4523-3-3-6\" r=\"6.6145835\" style=\"opacity:1;fill:#ffffff;fill-opacity:1;fill-rule:nonzero;stroke:#000000;stroke-width:0.465;stroke-linecap:butt;stroke-linejoin:miter;stroke-miterlimit:4;stroke-dasharray:none;stroke-dashoffset:0;stroke-opacity:1\"/>\n",
       "      <text id=\"text4527-6-1-2\" style=\"font-style:normal;font-weight:normal;font-size:7.19691706px;line-height:125%;font-family:sans-serif;letter-spacing:0px;word-spacing:0px;fill:#ffffff;fill-opacity:1;stroke:none;stroke-width:0.17992292px;stroke-linecap:butt;stroke-linejoin:miter;stroke-opacity:1\" x=\"43.052185\" xml:space=\"preserve\" y=\"30.958742\"><tspan id=\"tspan4525-7-9-6\" sodipodi:role=\"line\" style=\"fill:#ffffff;fill-opacity:1;stroke-width:0.17992292px\" x=\"43.052185\" y=\"37.326328\"/></text>\n",
       "    </g>\n",
       "    <g id=\"g4603-9-7\" style=\"display:inline;fill:#ffffff;fill-opacity:1\" transform=\"translate(132.94721,10.302607)\">\n",
       "      <circle cx=\"45.106419\" cy=\"29.173071\" id=\"path4523-3-3-9\" r=\"6.6145835\" style=\"opacity:1;fill:#ffffff;fill-opacity:1;fill-rule:nonzero;stroke:#000000;stroke-width:0.465;stroke-linecap:butt;stroke-linejoin:miter;stroke-miterlimit:4;stroke-dasharray:none;stroke-dashoffset:0;stroke-opacity:1\"/>\n",
       "      <text id=\"text4527-6-1-20\" style=\"font-style:normal;font-weight:normal;font-size:7.19691706px;line-height:125%;font-family:sans-serif;letter-spacing:0px;word-spacing:0px;fill:#ffffff;fill-opacity:1;stroke:none;stroke-width:0.17992292px;stroke-linecap:butt;stroke-linejoin:miter;stroke-opacity:1\" x=\"43.052185\" xml:space=\"preserve\" y=\"30.958742\"><tspan id=\"tspan4525-7-9-2\" sodipodi:role=\"line\" style=\"fill:#ffffff;fill-opacity:1;stroke-width:0.17992292px\" x=\"43.052185\" y=\"37.326328\"/></text>\n",
       "    </g>\n",
       "    <g id=\"g4603-9-9\" style=\"display:inline;fill:#ffffff;fill-opacity:1\" transform=\"translate(146.52261,-6.5476519)\">\n",
       "      <circle cx=\"45.106419\" cy=\"29.173071\" id=\"path4523-3-3-2\" r=\"6.6145835\" style=\"opacity:1;fill:#ffffff;fill-opacity:1;fill-rule:nonzero;stroke:#000000;stroke-width:0.465;stroke-linecap:butt;stroke-linejoin:miter;stroke-miterlimit:4;stroke-dasharray:none;stroke-dashoffset:0;stroke-opacity:1\"/>\n",
       "      <text id=\"text4527-6-1-28\" style=\"font-style:normal;font-weight:normal;font-size:7.19691706px;line-height:125%;font-family:sans-serif;letter-spacing:0px;word-spacing:0px;fill:#ffffff;fill-opacity:1;stroke:none;stroke-width:0.17992292px;stroke-linecap:butt;stroke-linejoin:miter;stroke-opacity:1\" x=\"43.052185\" xml:space=\"preserve\" y=\"30.958742\"><tspan id=\"tspan4525-7-9-97\" sodipodi:role=\"line\" style=\"fill:#ffffff;fill-opacity:1;stroke-width:0.17992292px\" x=\"43.052185\" y=\"37.326328\"/></text>\n",
       "    </g>\n",
       "    <g id=\"g4603-9-7-3\" style=\"display:inline;fill:#ffffff;fill-opacity:1\" transform=\"translate(160.34234,10.302606)\">\n",
       "      <circle cx=\"45.106419\" cy=\"29.173071\" id=\"path4523-3-3-9-6\" r=\"6.6145835\" style=\"opacity:1;fill:#ffffff;fill-opacity:1;fill-rule:nonzero;stroke:#000000;stroke-width:0.465;stroke-linecap:butt;stroke-linejoin:miter;stroke-miterlimit:4;stroke-dasharray:none;stroke-dashoffset:0;stroke-opacity:1\"/>\n",
       "      <text id=\"text4527-6-1-20-7\" style=\"font-style:normal;font-weight:normal;font-size:7.19691706px;line-height:125%;font-family:sans-serif;letter-spacing:0px;word-spacing:0px;fill:#ffffff;fill-opacity:1;stroke:none;stroke-width:0.17992292px;stroke-linecap:butt;stroke-linejoin:miter;stroke-opacity:1\" x=\"43.052185\" xml:space=\"preserve\" y=\"30.958742\"><tspan id=\"tspan4525-7-9-2-5\" sodipodi:role=\"line\" style=\"fill:#ffffff;fill-opacity:1;stroke-width:0.17992292px\" x=\"43.052185\" y=\"37.326328\"/></text>\n",
       "    </g>\n",
       "  </g>\n",
       "  <g id=\"layer3\" inkscape:groupmode=\"layer\" inkscape:label=\"Letters\" style=\"display:inline\" transform=\"translate(-52.515243,-14.015728)\">\n",
       "    <text id=\"text4527\" style=\"font-style:normal;font-weight:normal;font-size:7.19691706px;line-height:125%;font-family:sans-serif;letter-spacing:0px;word-spacing:0px;display:inline;fill:#000000;fill-opacity:1;stroke:none;stroke-width:0.17992292px;stroke-linecap:butt;stroke-linejoin:miter;stroke-opacity:1\" x=\"89.165283\" xml:space=\"preserve\" y=\"54.487759\"><tspan id=\"tspan4525\" sodipodi:role=\"line\" style=\"stroke-width:0.17992292px\" x=\"89.165283\" y=\"54.487759\">c</tspan></text>\n",
       "    <text id=\"text4527-61\" style=\"font-style:normal;font-weight:normal;font-size:7.19691706px;line-height:125%;font-family:sans-serif;letter-spacing:0px;word-spacing:0px;display:inline;fill:#000000;fill-opacity:1;stroke:none;stroke-width:0.17992292px;stroke-linecap:butt;stroke-linejoin:miter;stroke-opacity:1\" x=\"129.24709\" xml:space=\"preserve\" y=\"81.575058\"><tspan id=\"tspan4525-2\" sodipodi:role=\"line\" style=\"stroke-width:0.17992292px\" x=\"129.24709\" y=\"81.575058\">e</tspan></text>\n",
       "    <text id=\"text4527-4\" style=\"font-style:normal;font-weight:normal;font-size:7.19691706px;line-height:125%;font-family:sans-serif;letter-spacing:0px;word-spacing:0px;display:inline;fill:#000000;fill-opacity:1;stroke:none;stroke-width:0.17992292px;stroke-linecap:butt;stroke-linejoin:miter;stroke-opacity:1\" x=\"127.91007\" xml:space=\"preserve\" y=\"22.365\"><tspan id=\"tspan4525-78\" sodipodi:role=\"line\" style=\"stroke-width:0.17992292px\" x=\"127.91007\" y=\"22.365\">g</tspan></text>\n",
       "    <text id=\"text4527-610\" style=\"font-style:normal;font-weight:normal;font-size:7.19691706px;line-height:125%;font-family:sans-serif;letter-spacing:0px;word-spacing:0px;display:inline;fill:#000000;fill-opacity:1;stroke:none;stroke-width:0.17992292px;stroke-linecap:butt;stroke-linejoin:miter;stroke-opacity:1\" x=\"60.483521\" xml:space=\"preserve\" y=\"70.972931\"><tspan id=\"tspan4525-6\" sodipodi:role=\"line\" style=\"stroke-width:0.17992292px\" x=\"60.483521\" y=\"70.972931\">f</tspan></text>\n",
       "    <text id=\"text4527-5\" style=\"font-style:normal;font-weight:normal;font-size:7.19691706px;line-height:125%;font-family:sans-serif;letter-spacing:0px;word-spacing:0px;display:inline;fill:#000000;fill-opacity:1;stroke:none;stroke-width:0.17992292px;stroke-linecap:butt;stroke-linejoin:miter;stroke-opacity:1\" x=\"128.09079\" xml:space=\"preserve\" y=\"54.455269\"><tspan id=\"tspan4525-5\" sodipodi:role=\"line\" style=\"stroke-width:0.17992292px\" x=\"128.09079\" y=\"54.455269\">d</tspan></text>\n",
       "    <text id=\"text4527-9\" style=\"font-style:normal;font-weight:normal;font-size:7.19691706px;line-height:125%;font-family:sans-serif;letter-spacing:0px;word-spacing:0px;display:inline;fill:#000000;fill-opacity:1;stroke:none;stroke-width:0.17992292px;stroke-linecap:butt;stroke-linejoin:miter;stroke-opacity:1\" x=\"95.281883\" xml:space=\"preserve\" y=\"24.957867\"><tspan id=\"tspan4525-3\" sodipodi:role=\"line\" style=\"stroke-width:0.17992292px\" x=\"95.281883\" y=\"24.957867\">a</tspan></text>\n",
       "    <text id=\"text4527-47\" style=\"font-style:normal;font-weight:normal;font-size:7.19691706px;line-height:125%;font-family:sans-serif;letter-spacing:0px;word-spacing:0px;display:inline;fill:#000000;fill-opacity:1;stroke:none;stroke-width:0.17992292px;stroke-linecap:butt;stroke-linejoin:miter;stroke-opacity:1\" x=\"57.374908\" xml:space=\"preserve\" y=\"40.777515\"><tspan id=\"tspan4525-4\" sodipodi:role=\"line\" style=\"stroke-width:0.17992292px\" x=\"57.374908\" y=\"40.777515\">b</tspan></text>\n",
       "    <text id=\"text4527-61-3\" style=\"font-style:normal;font-weight:normal;font-size:7.19691706px;line-height:125%;font-family:sans-serif;letter-spacing:0px;word-spacing:0px;display:inline;fill:#000000;fill-opacity:1;stroke:none;stroke-width:0.17992292px;stroke-linecap:butt;stroke-linejoin:miter;stroke-opacity:1\" x=\"152.07681\" xml:space=\"preserve\" y=\"79.450096\"><tspan id=\"tspan4525-2-6\" sodipodi:role=\"line\" style=\"stroke-width:0.17992292px\" x=\"152.07681\" y=\"79.450096\">i</tspan></text>\n",
       "    <text id=\"text4527-61-1\" style=\"font-style:normal;font-weight:normal;font-size:7.19691706px;line-height:125%;font-family:sans-serif;letter-spacing:0px;word-spacing:0px;display:inline;fill:#000000;fill-opacity:1;stroke:none;stroke-width:0.17992292px;stroke-linecap:butt;stroke-linejoin:miter;stroke-opacity:1\" x=\"164.81126\" xml:space=\"preserve\" y=\"59.461388\"><tspan id=\"tspan4525-2-8\" sodipodi:role=\"line\" style=\"stroke-width:0.17992292px\" x=\"164.81126\" y=\"59.461388\">j</tspan></text>\n",
       "    <text id=\"text4527-61-37\" style=\"font-style:normal;font-weight:normal;font-size:7.19691706px;line-height:125%;font-family:sans-serif;letter-spacing:0px;word-spacing:0px;display:inline;fill:#000000;fill-opacity:1;stroke:none;stroke-width:0.17992292px;stroke-linecap:butt;stroke-linejoin:miter;stroke-opacity:1\" x=\"176.06622\" xml:space=\"preserve\" y=\"41.733818\"><tspan id=\"tspan4525-2-5\" sodipodi:role=\"line\" style=\"stroke-width:0.17992292px\" x=\"176.06622\" y=\"41.733818\">k</tspan></text>\n",
       "    <text id=\"text4527-61-36\" style=\"font-style:normal;font-weight:normal;font-size:7.19691706px;line-height:125%;font-family:sans-serif;letter-spacing:0px;word-spacing:0px;display:inline;fill:#000000;fill-opacity:1;stroke:none;stroke-width:0.17992292px;stroke-linecap:butt;stroke-linejoin:miter;stroke-opacity:1\" x=\"190.49207\" xml:space=\"preserve\" y=\"25.261536\"><tspan id=\"tspan4525-2-1\" sodipodi:role=\"line\" style=\"stroke-width:0.17992292px\" x=\"190.49207\" y=\"25.261536\">l</tspan></text>\n",
       "    <text id=\"text4527-61-37-3\" style=\"font-style:normal;font-weight:normal;font-size:7.19691706px;line-height:125%;font-family:sans-serif;letter-spacing:0px;word-spacing:0px;display:inline;fill:#000000;fill-opacity:1;stroke:none;stroke-width:0.17992292px;stroke-linecap:butt;stroke-linejoin:miter;stroke-opacity:1\" x=\"202.25864\" xml:space=\"preserve\" y=\"41.466549\"><tspan id=\"tspan4525-2-5-5\" sodipodi:role=\"line\" style=\"stroke-width:0.17992292px\" x=\"202.25864\" y=\"41.466549\">m</tspan></text>\n",
       "  </g>\n",
       "</svg>"
      ],
      "text/plain": [
       "<IPython.core.display.SVG object>"
      ]
     },
     "metadata": {},
     "output_type": "display_data"
    },
    {
     "data": {
      "text/markdown": [
       "$G_2$ has 2 connected components"
      ],
      "text/plain": [
       "<IPython.core.display.Markdown object>"
      ]
     },
     "metadata": {},
     "output_type": "display_data"
    }
   ],
   "source": [
    "G2 = Graph(G_map,\"$G_2$\")\n",
    "G2.add_vertex('i')\n",
    "G2.add_vertex('j')\n",
    "G2.add_vertex('k')\n",
    "G2.add_vertex('l')\n",
    "G2.add_vertex('m')\n",
    "G2.add_edge({'i','j'})\n",
    "G2.add_edge({'j','k'})\n",
    "G2.add_edge({'k','l'})\n",
    "G2.add_edge({'l','m'})\n",
    "display(SVG(filename=\"small_example2.svg\"),\n",
    "        Markdown('$G_2$ has ' + str(len(set(G2.connected_components().values()))) + ' connected components'))"
   ]
  },
  {
   "cell_type": "markdown",
   "metadata": {},
   "source": [
    "### Diameter\n",
    "We implemented four functions related to *distances* between nodes in a graph:\n",
    "- `shortest_path`: returns the length of the shortest path between two nodes of the graph (can be $\\infty$);\n",
    "- `diameter`: returns the length of the longest (non-$\\infty$) shortest path between any two pair of nodes;\n",
    "- `diameter_component`: returns the diameter of the component containing a given node;\n",
    "- `biggest_component_diameter`: returns the diameter of the biggest component.\n",
    "\n",
    "With one execution of a BFS starting from a node, we can determine the shortest path between this node and another node, and the maximum shortest path between this node and any other node. Then, for computing the diameter we execute one BFS for each node of the graph (or of the desired component)."
   ]
  },
  {
   "cell_type": "code",
   "execution_count": 10,
   "metadata": {
    "collapsed": false
   },
   "outputs": [
    {
     "data": {
      "text/markdown": [
       "There is no path between `a` and `i` in $G_2$"
      ],
      "text/plain": [
       "<IPython.core.display.Markdown object>"
      ]
     },
     "metadata": {},
     "output_type": "display_data"
    },
    {
     "data": {
      "text/markdown": [
       "The shortest path between `a` and `b` in $G_2$ has length 2"
      ],
      "text/plain": [
       "<IPython.core.display.Markdown object>"
      ]
     },
     "metadata": {},
     "output_type": "display_data"
    },
    {
     "data": {
      "text/markdown": [
       "The shortest path between `e` and `b` in $G_2$ has length 3"
      ],
      "text/plain": [
       "<IPython.core.display.Markdown object>"
      ]
     },
     "metadata": {},
     "output_type": "display_data"
    },
    {
     "data": {
      "text/markdown": [
       "The shortest path between `i` and `m` in $G_2$ has length 4"
      ],
      "text/plain": [
       "<IPython.core.display.Markdown object>"
      ]
     },
     "metadata": {},
     "output_type": "display_data"
    }
   ],
   "source": [
    "def display_length_sp(graph,u,v):\n",
    "    l = graph.shortest_path(u,v)\n",
    "    s = \"between `\" + str(u) + \"` and `\" + str(v) + \"` in \" + graph.name()\n",
    "    if l == math.inf:\n",
    "        return Markdown(\"There is no path \" + s)\n",
    "    else:\n",
    "        return Markdown(\"The shortest path \" + s + \" has length \" + str(l))\n",
    "display(display_length_sp(G2,'a','i')\n",
    "       ,display_length_sp(G2,'a','b')\n",
    "       ,display_length_sp(G2,'e','b')\n",
    "       ,display_length_sp(G2,'i','m'))"
   ]
  },
  {
   "cell_type": "code",
   "execution_count": 11,
   "metadata": {
    "collapsed": false
   },
   "outputs": [
    {
     "data": {
      "text/markdown": [
       "The diameter of the component of `a` in $G_2$ is 3"
      ],
      "text/plain": [
       "<IPython.core.display.Markdown object>"
      ]
     },
     "metadata": {},
     "output_type": "display_data"
    },
    {
     "data": {
      "text/markdown": [
       "The diameter of the component of `i` in $G_2$ is 4"
      ],
      "text/plain": [
       "<IPython.core.display.Markdown object>"
      ]
     },
     "metadata": {},
     "output_type": "display_data"
    },
    {
     "data": {
      "text/markdown": [
       "The diameter of $G_2$ is 4"
      ],
      "text/plain": [
       "<IPython.core.display.Markdown object>"
      ]
     },
     "metadata": {},
     "output_type": "display_data"
    },
    {
     "data": {
      "text/markdown": [
       "The diameter of the biggest component of $G_2$ is 3"
      ],
      "text/plain": [
       "<IPython.core.display.Markdown object>"
      ]
     },
     "metadata": {},
     "output_type": "display_data"
    },
    {
     "data": {
      "text/markdown": [
       "The diameter of $K_5$ is 1"
      ],
      "text/plain": [
       "<IPython.core.display.Markdown object>"
      ]
     },
     "metadata": {},
     "output_type": "display_data"
    },
    {
     "data": {
      "text/markdown": [
       "The diameter of $D_5$ is 0"
      ],
      "text/plain": [
       "<IPython.core.display.Markdown object>"
      ]
     },
     "metadata": {},
     "output_type": "display_data"
    }
   ],
   "source": [
    "display(Markdown(\"The diameter of the component of `a` in $G_2$ is \" + str(G2.diameter_component('a')))\n",
    "       ,Markdown(\"The diameter of the component of `i` in $G_2$ is \" + str(G2.diameter_component('i')))\n",
    "       ,Markdown(\"The diameter of $G_2$ is \" + str(G2.diameter()))\n",
    "       ,Markdown(\"The diameter of the biggest component of $G_2$ is \" + str(G2.biggest_component_diameter()))\n",
    "       ,Markdown(\"The diameter of $K_5$ is \" + str(K5.diameter()))\n",
    "       ,Markdown(\"The diameter of $D_5$ is \" + str(D5.diameter())))"
   ]
  },
  {
   "cell_type": "markdown",
   "metadata": {},
   "source": [
    "### Spanning tree\n",
    "A **spanning tree** of an unweighted and *connected* graph $G = (V,E)$ is a tree whose nodes are $V$ and edges are a subset of $E$ (of size $|V|-1$). We implemented the Prim algorithm for computing a spanning tree of a graph in function `spanning_tree`."
   ]
  },
  {
   "cell_type": "code",
   "execution_count": 12,
   "metadata": {
    "collapsed": false
   },
   "outputs": [
    {
     "data": {
      "text/markdown": [
       "A spanning tree of $G$ is:\n",
       "\n",
       "    [{'c', 'a'}, {'c', 'b'}, {'c', 'd'}, {'c', 'f'}, {'d', 'e'}, {'d', 'g'}]"
      ],
      "text/plain": [
       "<IPython.core.display.Markdown object>"
      ]
     },
     "metadata": {},
     "output_type": "display_data"
    },
    {
     "data": {
      "image/svg+xml": [
       "<svg height=\"72.620743mm\" id=\"svg8\" inkscape:version=\"0.92.2 5c3e80d, 2017-08-06\" sodipodi:docname=\"small_example_spanning_tree.svg\" version=\"1.1\" viewBox=\"0 0 85.566342 72.620743\" width=\"85.566345mm\" xmlns=\"http://www.w3.org/2000/svg\" xmlns:cc=\"http://creativecommons.org/ns#\" xmlns:dc=\"http://purl.org/dc/elements/1.1/\" xmlns:inkscape=\"http://www.inkscape.org/namespaces/inkscape\" xmlns:rdf=\"http://www.w3.org/1999/02/22-rdf-syntax-ns#\" xmlns:sodipodi=\"http://sodipodi.sourceforge.net/DTD/sodipodi-0.dtd\" xmlns:svg=\"http://www.w3.org/2000/svg\">\n",
       "  <defs id=\"defs2\"/>\n",
       "  <sodipodi:namedview bordercolor=\"#666666\" borderopacity=\"1.0\" id=\"base\" inkscape:current-layer=\"layer2\" inkscape:cx=\"185.57442\" inkscape:cy=\"134.01288\" inkscape:document-units=\"mm\" inkscape:pageopacity=\"0.0\" inkscape:pageshadow=\"2\" inkscape:window-height=\"1027\" inkscape:window-maximized=\"1\" inkscape:window-width=\"1920\" inkscape:window-x=\"0\" inkscape:window-y=\"0\" inkscape:zoom=\"1.979899\" pagecolor=\"#ffffff\" showgrid=\"false\"/>\n",
       "  <metadata id=\"metadata5\">\n",
       "    <rdf:RDF>\n",
       "      <cc:Work rdf:about=\"\">\n",
       "        <dc:format>image/svg+xml</dc:format>\n",
       "        <dc:type rdf:resource=\"http://purl.org/dc/dcmitype/StillImage\"/>\n",
       "        <dc:title/>\n",
       "      </cc:Work>\n",
       "    </rdf:RDF>\n",
       "  </metadata>\n",
       "  <g id=\"layer2\" inkscape:groupmode=\"layer\" inkscape:label=\"Lines\" style=\"display:inline\" transform=\"translate(-52.515243,-14.015728)\">\n",
       "    <path d=\"M 96.950891,27.313988 C 92.0372,49.047619 92.0372,49.047619 92.0372,49.047619\" id=\"path4865\" inkscape:connector-curvature=\"0\" style=\"fill:none;fill-rule:evenodd;stroke:#000000;stroke-width:0.465;stroke-linecap:butt;stroke-linejoin:miter;stroke-miterlimit:4;stroke-dasharray:none;stroke-opacity:1\"/>\n",
       "    <path d=\"m 101.67559,25.04613 26.26935,24.190476\" id=\"path4867\" inkscape:connector-curvature=\"0\" style=\"fill:none;fill-rule:evenodd;stroke:#000000;stroke-width:0.465;stroke-linecap:butt;stroke-linejoin:miter;stroke-miterlimit:4;stroke-dasharray:none;stroke-opacity:1\"/>\n",
       "    <path d=\"m 100.35268,21.07738 25.51339,0.188989\" id=\"path4869\" inkscape:connector-curvature=\"0\" style=\"fill:none;fill-rule:evenodd;stroke:#000000;stroke-width:0.465;stroke-linecap:butt;stroke-linejoin:miter;stroke-miterlimit:4;stroke-dasharray:none;stroke-opacity:1\"/>\n",
       "    <path d=\"M 62.744048,39.598213 87.879464,52.260415\" id=\"path4871\" inkscape:connector-curvature=\"0\" style=\"fill:none;fill-rule:evenodd;stroke:#000000;stroke-width:0.465;stroke-linecap:butt;stroke-linejoin:miter;stroke-miterlimit:4;stroke-dasharray:none;stroke-opacity:1\"/>\n",
       "    <path d=\"M 66.145832,67.757439 89.202381,56.607143\" id=\"path4875\" inkscape:connector-curvature=\"0\" style=\"fill:none;fill-rule:evenodd;stroke:#000000;stroke-width:0.465;stroke-linecap:butt;stroke-linejoin:miter;stroke-miterlimit:4;stroke-dasharray:none;stroke-opacity:1\"/>\n",
       "    <path d=\"M 130.02381,56.040178 V 76.072914\" id=\"path4881\" inkscape:connector-curvature=\"0\" style=\"fill:none;fill-rule:evenodd;stroke:#000000;stroke-width:0.465;stroke-linecap:butt;stroke-linejoin:miter;stroke-miterlimit:4;stroke-dasharray:none;stroke-opacity:1\"/>\n",
       "  </g>\n",
       "  <g id=\"layer1\" inkscape:groupmode=\"layer\" inkscape:label=\"Nodes\" style=\"display:inline\" transform=\"translate(-52.515243,-14.015728)\">\n",
       "    <circle cx=\"91.219513\" cy=\"52.607594\" id=\"path4523\" r=\"6.614583\" style=\"opacity:1;fill:none;fill-opacity:1;fill-rule:nonzero;stroke:#000000;stroke-width:0.465;stroke-linecap:butt;stroke-linejoin:miter;stroke-miterlimit:4;stroke-dasharray:none;stroke-dashoffset:0;stroke-opacity:1\"/>\n",
       "    <g id=\"g4603\" style=\"fill:#ffffff;fill-opacity:1\" transform=\"translate(46.046278,23.434524)\">\n",
       "      <circle cx=\"45.106419\" cy=\"29.173071\" id=\"path4523-3\" r=\"6.6145835\" style=\"opacity:1;fill:#ffffff;fill-opacity:1;fill-rule:nonzero;stroke:#000000;stroke-width:0.465;stroke-linecap:butt;stroke-linejoin:miter;stroke-miterlimit:4;stroke-dasharray:none;stroke-dashoffset:0;stroke-opacity:1\"/>\n",
       "      <text id=\"text4527-6\" style=\"font-style:normal;font-weight:normal;font-size:7.19691706px;line-height:125%;font-family:sans-serif;letter-spacing:0px;word-spacing:0px;fill:#ffffff;fill-opacity:1;stroke:none;stroke-width:0.17992292px;stroke-linecap:butt;stroke-linejoin:miter;stroke-opacity:1\" x=\"43.052185\" xml:space=\"preserve\" y=\"30.958742\"><tspan id=\"tspan4525-7\" sodipodi:role=\"line\" style=\"fill:#ffffff;fill-opacity:1;stroke-width:0.17992292px\" x=\"43.052185\" y=\"37.326328\"/></text>\n",
       "    </g>\n",
       "    <g id=\"g4603-9\" style=\"fill:#ffffff;fill-opacity:1\" transform=\"translate(86.128087,50.616318)\">\n",
       "      <circle cx=\"45.106419\" cy=\"29.173071\" id=\"path4523-3-3\" r=\"6.6145835\" style=\"opacity:1;fill:#ffffff;fill-opacity:1;fill-rule:nonzero;stroke:#000000;stroke-width:0.465;stroke-linecap:butt;stroke-linejoin:miter;stroke-miterlimit:4;stroke-dasharray:none;stroke-dashoffset:0;stroke-opacity:1\"/>\n",
       "      <text id=\"text4527-6-1\" style=\"font-style:normal;font-weight:normal;font-size:7.19691706px;line-height:125%;font-family:sans-serif;letter-spacing:0px;word-spacing:0px;fill:#ffffff;fill-opacity:1;stroke:none;stroke-width:0.17992292px;stroke-linecap:butt;stroke-linejoin:miter;stroke-opacity:1\" x=\"43.052185\" xml:space=\"preserve\" y=\"30.958742\"><tspan id=\"tspan4525-7-9\" sodipodi:role=\"line\" style=\"fill:#ffffff;fill-opacity:1;stroke-width:0.17992292px\" x=\"43.052185\" y=\"37.326328\"/></text>\n",
       "    </g>\n",
       "    <g id=\"g4603-4\" style=\"fill:#ffffff;fill-opacity:1\" transform=\"translate(84.980053,-8.310259)\">\n",
       "      <circle cx=\"45.106419\" cy=\"29.173071\" id=\"path4523-3-5\" r=\"6.6145835\" style=\"opacity:1;fill:#ffffff;fill-opacity:1;fill-rule:nonzero;stroke:#000000;stroke-width:0.465;stroke-linecap:butt;stroke-linejoin:miter;stroke-miterlimit:4;stroke-dasharray:none;stroke-dashoffset:0;stroke-opacity:1\"/>\n",
       "      <text id=\"text4527-6-0\" style=\"font-style:normal;font-weight:normal;font-size:7.19691706px;line-height:125%;font-family:sans-serif;letter-spacing:0px;word-spacing:0px;fill:#ffffff;fill-opacity:1;stroke:none;stroke-width:0.17992292px;stroke-linecap:butt;stroke-linejoin:miter;stroke-opacity:1\" x=\"43.052185\" xml:space=\"preserve\" y=\"30.958742\"><tspan id=\"tspan4525-7-3\" sodipodi:role=\"line\" style=\"fill:#ffffff;fill-opacity:1;stroke-width:0.17992292px\" x=\"43.052185\" y=\"37.326328\"/></text>\n",
       "    </g>\n",
       "    <g id=\"g4603-3\" style=\"fill:#ffffff;fill-opacity:1\" transform=\"translate(16.986541,39.35273)\">\n",
       "      <circle cx=\"45.106419\" cy=\"29.173071\" id=\"path4523-3-2\" r=\"6.6145835\" style=\"opacity:1;fill:#ffffff;fill-opacity:1;fill-rule:nonzero;stroke:#000000;stroke-width:0.465;stroke-linecap:butt;stroke-linejoin:miter;stroke-miterlimit:4;stroke-dasharray:none;stroke-dashoffset:0;stroke-opacity:1\"/>\n",
       "      <text id=\"text4527-6-06\" style=\"font-style:normal;font-weight:normal;font-size:7.19691706px;line-height:125%;font-family:sans-serif;letter-spacing:0px;word-spacing:0px;fill:#ffffff;fill-opacity:1;stroke:none;stroke-width:0.17992292px;stroke-linecap:butt;stroke-linejoin:miter;stroke-opacity:1\" x=\"43.052185\" xml:space=\"preserve\" y=\"30.958742\"><tspan id=\"tspan4525-7-1\" sodipodi:role=\"line\" style=\"fill:#ffffff;fill-opacity:1;stroke-width:0.17992292px\" x=\"43.052185\" y=\"37.326328\"/></text>\n",
       "    </g>\n",
       "    <g id=\"g4603-47\" style=\"fill:#ffffff;fill-opacity:1\" transform=\"translate(85.349764,23.024057)\">\n",
       "      <circle cx=\"45.106419\" cy=\"29.173071\" id=\"path4523-3-6\" r=\"6.6145835\" style=\"opacity:1;fill:#ffffff;fill-opacity:1;fill-rule:nonzero;stroke:#000000;stroke-width:0.465;stroke-linecap:butt;stroke-linejoin:miter;stroke-miterlimit:4;stroke-dasharray:none;stroke-dashoffset:0;stroke-opacity:1\"/>\n",
       "      <text id=\"text4527-6-5\" style=\"font-style:normal;font-weight:normal;font-size:7.19691706px;line-height:125%;font-family:sans-serif;letter-spacing:0px;word-spacing:0px;fill:#ffffff;fill-opacity:1;stroke:none;stroke-width:0.17992292px;stroke-linecap:butt;stroke-linejoin:miter;stroke-opacity:1\" x=\"43.052185\" xml:space=\"preserve\" y=\"30.958742\"><tspan id=\"tspan4525-7-6\" sodipodi:role=\"line\" style=\"fill:#ffffff;fill-opacity:1;stroke-width:0.17992292px\" x=\"43.052185\" y=\"37.326328\"/></text>\n",
       "    </g>\n",
       "    <g id=\"g4603-7\" style=\"fill:#ffffff;fill-opacity:1\" transform=\"translate(52.162884,-6.000874)\">\n",
       "      <circle cx=\"45.106419\" cy=\"29.173071\" id=\"path4523-3-4\" r=\"6.6145835\" style=\"opacity:1;fill:#ffffff;fill-opacity:1;fill-rule:nonzero;stroke:#000000;stroke-width:0.465;stroke-linecap:butt;stroke-linejoin:miter;stroke-miterlimit:4;stroke-dasharray:none;stroke-dashoffset:0;stroke-opacity:1\"/>\n",
       "      <text id=\"text4527-6-52\" style=\"font-style:normal;font-weight:normal;font-size:7.19691706px;line-height:125%;font-family:sans-serif;letter-spacing:0px;word-spacing:0px;fill:#ffffff;fill-opacity:1;stroke:none;stroke-width:0.17992292px;stroke-linecap:butt;stroke-linejoin:miter;stroke-opacity:1\" x=\"43.052185\" xml:space=\"preserve\" y=\"30.958742\"><tspan id=\"tspan4525-7-5\" sodipodi:role=\"line\" style=\"fill:#ffffff;fill-opacity:1;stroke-width:0.17992292px\" x=\"43.052185\" y=\"37.326328\"/></text>\n",
       "    </g>\n",
       "    <g id=\"g4603-43\" style=\"fill:#ffffff;fill-opacity:1\" transform=\"translate(14.255908,9.440796)\">\n",
       "      <circle cx=\"45.106419\" cy=\"29.173071\" id=\"path4523-3-0\" r=\"6.6145835\" style=\"opacity:1;fill:#ffffff;fill-opacity:1;fill-rule:nonzero;stroke:#000000;stroke-width:0.465;stroke-linecap:butt;stroke-linejoin:miter;stroke-miterlimit:4;stroke-dasharray:none;stroke-dashoffset:0;stroke-opacity:1\"/>\n",
       "      <text id=\"text4527-6-7\" style=\"font-style:normal;font-weight:normal;font-size:7.19691706px;line-height:125%;font-family:sans-serif;letter-spacing:0px;word-spacing:0px;fill:#ffffff;fill-opacity:1;stroke:none;stroke-width:0.17992292px;stroke-linecap:butt;stroke-linejoin:miter;stroke-opacity:1\" x=\"43.052185\" xml:space=\"preserve\" y=\"30.958742\"><tspan id=\"tspan4525-7-8\" sodipodi:role=\"line\" style=\"fill:#ffffff;fill-opacity:1;stroke-width:0.17992292px\" x=\"43.052185\" y=\"37.326328\"/></text>\n",
       "    </g>\n",
       "  </g>\n",
       "  <g id=\"layer3\" inkscape:groupmode=\"layer\" inkscape:label=\"Letters\" style=\"display:inline\" transform=\"translate(-52.515243,-14.015728)\">\n",
       "    <text id=\"text4527\" style=\"font-style:normal;font-weight:normal;font-size:7.19691706px;line-height:125%;font-family:sans-serif;letter-spacing:0px;word-spacing:0px;display:inline;fill:#000000;fill-opacity:1;stroke:none;stroke-width:0.17992292px;stroke-linecap:butt;stroke-linejoin:miter;stroke-opacity:1\" x=\"89.165283\" xml:space=\"preserve\" y=\"54.487759\"><tspan id=\"tspan4525\" sodipodi:role=\"line\" style=\"stroke-width:0.17992292px\" x=\"89.165283\" y=\"54.487759\">c</tspan></text>\n",
       "    <text id=\"text4527-61\" style=\"font-style:normal;font-weight:normal;font-size:7.19691706px;line-height:125%;font-family:sans-serif;letter-spacing:0px;word-spacing:0px;display:inline;fill:#000000;fill-opacity:1;stroke:none;stroke-width:0.17992292px;stroke-linecap:butt;stroke-linejoin:miter;stroke-opacity:1\" x=\"129.24709\" xml:space=\"preserve\" y=\"81.575058\"><tspan id=\"tspan4525-2\" sodipodi:role=\"line\" style=\"stroke-width:0.17992292px\" x=\"129.24709\" y=\"81.575058\">e</tspan></text>\n",
       "    <text id=\"text4527-4\" style=\"font-style:normal;font-weight:normal;font-size:7.19691706px;line-height:125%;font-family:sans-serif;letter-spacing:0px;word-spacing:0px;display:inline;fill:#000000;fill-opacity:1;stroke:none;stroke-width:0.17992292px;stroke-linecap:butt;stroke-linejoin:miter;stroke-opacity:1\" x=\"127.91007\" xml:space=\"preserve\" y=\"22.365\"><tspan id=\"tspan4525-78\" sodipodi:role=\"line\" style=\"stroke-width:0.17992292px\" x=\"127.91007\" y=\"22.365\">g</tspan></text>\n",
       "    <text id=\"text4527-610\" style=\"font-style:normal;font-weight:normal;font-size:7.19691706px;line-height:125%;font-family:sans-serif;letter-spacing:0px;word-spacing:0px;display:inline;fill:#000000;fill-opacity:1;stroke:none;stroke-width:0.17992292px;stroke-linecap:butt;stroke-linejoin:miter;stroke-opacity:1\" x=\"60.483521\" xml:space=\"preserve\" y=\"70.972931\"><tspan id=\"tspan4525-6\" sodipodi:role=\"line\" style=\"stroke-width:0.17992292px\" x=\"60.483521\" y=\"70.972931\">f</tspan></text>\n",
       "    <text id=\"text4527-5\" style=\"font-style:normal;font-weight:normal;font-size:7.19691706px;line-height:125%;font-family:sans-serif;letter-spacing:0px;word-spacing:0px;display:inline;fill:#000000;fill-opacity:1;stroke:none;stroke-width:0.17992292px;stroke-linecap:butt;stroke-linejoin:miter;stroke-opacity:1\" x=\"128.09079\" xml:space=\"preserve\" y=\"54.455269\"><tspan id=\"tspan4525-5\" sodipodi:role=\"line\" style=\"stroke-width:0.17992292px\" x=\"128.09079\" y=\"54.455269\">d</tspan></text>\n",
       "    <text id=\"text4527-9\" style=\"font-style:normal;font-weight:normal;font-size:7.19691706px;line-height:125%;font-family:sans-serif;letter-spacing:0px;word-spacing:0px;display:inline;fill:#000000;fill-opacity:1;stroke:none;stroke-width:0.17992292px;stroke-linecap:butt;stroke-linejoin:miter;stroke-opacity:1\" x=\"95.281883\" xml:space=\"preserve\" y=\"24.957867\"><tspan id=\"tspan4525-3\" sodipodi:role=\"line\" style=\"stroke-width:0.17992292px\" x=\"95.281883\" y=\"24.957867\">a</tspan></text>\n",
       "    <text id=\"text4527-47\" style=\"font-style:normal;font-weight:normal;font-size:7.19691706px;line-height:125%;font-family:sans-serif;letter-spacing:0px;word-spacing:0px;display:inline;fill:#000000;fill-opacity:1;stroke:none;stroke-width:0.17992292px;stroke-linecap:butt;stroke-linejoin:miter;stroke-opacity:1\" x=\"57.374908\" xml:space=\"preserve\" y=\"40.777515\"><tspan id=\"tspan4525-4\" sodipodi:role=\"line\" style=\"stroke-width:0.17992292px\" x=\"57.374908\" y=\"40.777515\">b</tspan></text>\n",
       "  </g>\n",
       "</svg>"
      ],
      "text/plain": [
       "<IPython.core.display.SVG object>"
      ]
     },
     "metadata": {},
     "output_type": "display_data"
    }
   ],
   "source": [
    "display(Markdown('''A spanning tree of $G$ is:\\n\n",
    "    ''' + str(G.spanning_tree())),\n",
    "       SVG(filename=\"small_example_spanning_tree.svg\"))"
   ]
  },
  {
   "cell_type": "markdown",
   "metadata": {},
   "source": [
    "## Testing on real datasets\n",
    "Finally, we tested some of our functions on bigger graphs, the infamous *Zachary graph* (a connected subset of it in fact) and two random graphs with respectively 100 and 1000 nodes. In order to load these graphs, we added a static method `from_txt` in our `Graph` class that import a graph from a file where each line specifies an edge (two integers separated with a tabulation)."
   ]
  },
  {
   "cell_type": "code",
   "execution_count": 13,
   "metadata": {
    "collapsed": true
   },
   "outputs": [],
   "source": [
    "zachary = G.from_txt('zachary_connected.txt')\n",
    "random100 = G.from_txt('graph_100n_1000m.txt')\n",
    "random1000 = G.from_txt('graph_1000n_4000m.txt')"
   ]
  },
  {
   "cell_type": "code",
   "execution_count": 14,
   "metadata": {
    "collapsed": false
   },
   "outputs": [
    {
     "data": {
      "text/latex": [
       "\\begin{array}{|c|c|c|c|c|c|} \\hline \\text{Dataset} & \\text{Number of vertices} & \\text{Number of edges} & \n",
       "\\text{Density} & \\text{Diameter} & \\text{Clustering coefficient} \\\\ \\hline \n",
       "\\text{Zachary} & 33 & 78 & 0.14772727272727273 & 5 & 0.15458015267175573 \\\\ \\hline \\text{Random, } N=10^2 & 100 & 960 & 0.19393939393939394 & 3 & 0.19275720164609053 \\\\ \\hline \\text{Random, }N=10^3 & 1000 & 3989 & 0.007985985985985987 & 6 & 0.006997856512419619\\\\ \\hline \\end{array}"
      ],
      "text/plain": [
       "<IPython.core.display.Latex object>"
      ]
     },
     "execution_count": 14,
     "metadata": {},
     "output_type": "execute_result"
    }
   ],
   "source": [
    "Latex(r\"\"\"\\begin{array}{|c|c|c|c|c|c|} \\hline \\text{Dataset} & \\text{Number of vertices} & \\text{Number of edges} & \n",
    "\\text{Density} & \\text{Diameter} & \\text{Clustering coefficient} \\\\ \\hline \n",
    "\\text{Zachary} & \"\"\"\n",
    "+ str(len(zachary.vertices())) + r' & '+ str(len(zachary.edges())) + r\"\"\" & \"\"\"\n",
    "+ str(zachary.density()) + \"\"\" & \"\"\" + str(zachary.diameter()) + \"\"\" & \"\"\" + str(zachary.global_clustering_coefficient()) \n",
    "+ \"\"\" \\\\\\ \\hline \\\\text{Random, } N=10^2 & \"\"\"\n",
    "+ str(len(random100.vertices())) + \"\"\" & \"\"\" + str(len(random100.edges())) + \"\"\" & \"\"\"\n",
    "+ str(random100.density()) + \"\"\" & \"\"\" + str(random100.diameter()) + \"\"\" & \"\"\" + str(random100.global_clustering_coefficient())\n",
    "+ \"\"\" \\\\\\ \\hline \\\\text{Random, }N=10^3 & \"\"\"\n",
    "+ str(len(random1000.vertices())) + \"\"\" & \"\"\" + str(len(random1000.edges())) + \"\"\" & \"\"\"\n",
    "+ str(random1000.density()) + \"\"\" & \"\"\" + str(random1000.diameter()) + \"\"\" & \"\"\" + str(random1000.global_clustering_coefficient()) \n",
    "+ \"\"\"\\\\\\ \\hline \\end{array}\"\"\")"
   ]
  },
  {
   "cell_type": "markdown",
   "metadata": {},
   "source": [
    "# TP2"
   ]
  },
  {
   "cell_type": "code",
   "execution_count": 63,
   "metadata": {
    "collapsed": false
   },
   "outputs": [],
   "source": [
    "import random\n",
    "import scipy\n",
    "import scipy.special\n",
    "import matplotlib\n",
    "import matplotlib.pyplot as plt;\n",
    "%matplotlib inline  \n",
    "plt.rcParams['figure.figsize'] = (15, 6)"
   ]
  },
  {
   "cell_type": "code",
   "execution_count": 16,
   "metadata": {
    "collapsed": true
   },
   "outputs": [],
   "source": [
    "def er_np(n, p):\n",
    "    graph_dict = {}\n",
    "    for i in range(n):\n",
    "        graph_dict[i] = []\n",
    "    for i in range(n):\n",
    "        for j in range(i):\n",
    "            rv = random.uniform(0,1)\n",
    "            if rv < p:\n",
    "                graph_dict[i].append(j)\n",
    "                graph_dict[j].append(i)  \n",
    "    return Graph(graph_dict)\n",
    "\n",
    "def er_nm(n, m):\n",
    "    graph_dict = {}\n",
    "    for i in range(n):\n",
    "        graph_dict[i] = []\n",
    "    # number of possible edges (*2 since it is easier to sample couple than pairs)\n",
    "    nb_possibility = n*n\n",
    "    count_left = m\n",
    "    if m > n*(n-1)/2 :\n",
    "        print(\"Two many edges asked. Setting right amount.\")\n",
    "        count_left = n*(n-1)/2\n",
    "    while count_left > 0:\n",
    "        # sample an index for the new edge\n",
    "        edge_ind = random.randrange(nb_possibility)\n",
    "        # get the two endpoints (part where it is easier for couple)\n",
    "        i = edge_ind // n\n",
    "        j = edge_ind % n\n",
    "        # handle loops and multiedges\n",
    "        if i == j :\n",
    "            continue \n",
    "        if j in graph_dict[i]:\n",
    "            continue\n",
    "        graph_dict[i].append(j)\n",
    "        graph_dict[j].append(i)\n",
    "        count_left -= 1\n",
    "    return Graph(graph_dict)"
   ]
  },
  {
   "cell_type": "code",
   "execution_count": 17,
   "metadata": {
    "collapsed": false
   },
   "outputs": [
    {
     "name": "stdout",
     "output_type": "stream",
     "text": [
      "{0: [1, 5], 1: [0, 2, 4, 8, 9], 2: [1, 3, 5, 6, 7, 9], 3: [2, 4], 4: [1, 3, 6, 9], 5: [0, 2, 6, 9], 6: [2, 4, 5, 7], 7: [2, 6, 9], 8: [1], 9: [1, 2, 4, 5, 7]}\n",
      "Two many edges asked. Setting right amount.\n",
      "{0: [8, 1, 2, 4, 5, 3, 7, 6, 9], 1: [5, 0, 3, 4, 8, 2, 6, 7, 9], 2: [0, 8, 9, 3, 6, 7, 5, 1, 4], 3: [7, 8, 6, 2, 1, 5, 9, 0, 4], 4: [0, 7, 8, 1, 9, 6, 2, 3, 5], 5: [1, 7, 9, 3, 0, 8, 2, 6, 4], 6: [7, 3, 2, 1, 4, 0, 9, 5, 8], 7: [3, 6, 4, 5, 8, 2, 0, 1, 9], 8: [0, 2, 9, 3, 4, 7, 1, 5, 6], 9: [2, 8, 5, 3, 4, 6, 1, 7, 0]}\n"
     ]
    }
   ],
   "source": [
    "er_np(10,0.5).print()\n",
    "er_nm(10,111).print()"
   ]
  },
  {
   "cell_type": "code",
   "execution_count": 18,
   "metadata": {
    "collapsed": true
   },
   "outputs": [],
   "source": [
    "def expected_edge_number(n, p):\n",
    "    return math.floor(p * n*(n-1)/2)\n",
    "\n",
    "def binomial_coef(n, k):\n",
    "    return scipy.special.binom(n, k)\n",
    "    #n_fact = math.factorial(n)\n",
    "    #k_fact = math.factorial(k)\n",
    "    #return n_fact // (k_fact * math.factorial(n-k))\n",
    "\n",
    "def compare_edge_count(n, p):\n",
    "    \"\"\"Generate an er_np graph and compare its edges to an er_nm\"\"\"\n",
    "    m = expected_edge_number(n, p)\n",
    "    G_tmp = er_np(n, p)\n",
    "    nb_edges = len(G_tmp.edges())\n",
    "    if m == 0:\n",
    "        m = 1\n",
    "    return nb_edges / m"
   ]
  },
  {
   "cell_type": "code",
   "execution_count": 58,
   "metadata": {
    "collapsed": false
   },
   "outputs": [
    {
     "data": {
      "image/png": "[encoded data removed]",
      "text/plain": [
       "<matplotlib.figure.Figure at 0x7f430db62160>"
      ]
     },
     "metadata": {},
     "output_type": "display_data"
    }
   ],
   "source": [
    "n = 100\n",
    "\n",
    "# ratio in function of p\n",
    "got = [ compare_edge_count(n, p) for p in  np.arange(1/n, 1.0, 1/n)]\n",
    "plt.plot(got)\n",
    "plt.show()"
   ]
  },
  {
   "cell_type": "code",
   "execution_count": 59,
   "metadata": {
    "collapsed": false
   },
   "outputs": [
    {
     "data": {
      "image/png": "[encoded data removed]",
      "text/plain": [
       "<matplotlib.figure.Figure at 0x7f430db28278>"
      ]
     },
     "metadata": {},
     "output_type": "display_data"
    }
   ],
   "source": [
    "# edge distribution\n",
    "n = 1000\n",
    "p = .5\n",
    "graph_tmp = er_np(n, p)\n",
    "got = [0 for k in range(n)]\n",
    "for x in graph_tmp.vertex_degrees().values():\n",
    "    got[x] += 1\n",
    "for k in range(n):\n",
    "    got[k] /= n\n",
    "plt.plot(got)\n",
    "expected = [binomial_coef(n-1, k) * math.pow(p, k) * math.pow(1-p, n-1-k) for k in range(n)]\n",
    "plt.plot(expected, 'r')\n",
    "plt.show()"
   ]
  },
  {
   "cell_type": "code",
   "execution_count": 60,
   "metadata": {
    "collapsed": false
   },
   "outputs": [
    {
     "data": {
      "image/png": "[encoded data removed]",
      "text/plain": [
       "<matplotlib.figure.Figure at 0x7f430db28dd8>"
      ]
     },
     "metadata": {},
     "output_type": "display_data"
    }
   ],
   "source": [
    "# averages edge distribution\n",
    "n = 1000\n",
    "nb = 20\n",
    "p = .5\n",
    "\n",
    "got = [0 for k in range(n)]\n",
    "\n",
    "for i in range(nb):\n",
    "    graph_tmp = er_np(n, p)\n",
    "    for x in graph_tmp.vertex_degrees().values():\n",
    "        got[x] += 1\n",
    "for k in range(n):\n",
    "    got[k] /= n * nb\n",
    "plt.plot(got)\n",
    "expected = [binomial_coef(n-1, k) * math.pow(p, k) * math.pow(1-p, n-1-k) for k in range(n)]\n",
    "plt.plot(expected, 'r')\n",
    "plt.show()"
   ]
  },
  {
   "cell_type": "code",
   "execution_count": 61,
   "metadata": {
    "collapsed": true
   },
   "outputs": [],
   "source": [
    "def biggest_comp_size(G):\n",
    "    comps = G.connected_components()\n",
    "    # First determine the biggest component #\n",
    "    comps_size = {}\n",
    "    for u in comps.values():\n",
    "        comps_size[u] = 0\n",
    "    for v,u in comps.items():\n",
    "        comps_size[u] += 1\n",
    "    biggest = tuple(comps.values())[0]\n",
    "    max_size = comps_size[biggest]\n",
    "    for u in comps.values():\n",
    "        if comps_size[u] > max_size:\n",
    "            max_size = comps_size[u]\n",
    "            biggest = u\n",
    "    return max_size\n",
    "\n",
    "def second_biggest_comp_size(G):\n",
    "    comps = G.connected_components()\n",
    "    # First determine the biggest component #\n",
    "    comps_size = {}\n",
    "    for u in comps.values():\n",
    "        comps_size[u] = 0\n",
    "    for v,u in comps.items():\n",
    "        comps_size[u] += 1\n",
    "    biggest = tuple(comps.values())[0]\n",
    "    max_size = comps_size[biggest]\n",
    "    for u in comps.values():\n",
    "        if comps_size[u] > max_size:\n",
    "            max_size = comps_size[u]\n",
    "            biggest = u\n",
    "    sec_size = 0\n",
    "    for u in comps.values():\n",
    "        if u == biggest:\n",
    "            continue\n",
    "        else:\n",
    "            if comps_size[u] > sec_size:\n",
    "                sec_size = comps_size[u]\n",
    "    return sec_size"
   ]
  },
  {
   "cell_type": "code",
   "execution_count": 65,
   "metadata": {
    "collapsed": false
   },
   "outputs": [
    {
     "data": {
      "image/png": "[encoded data removed]",
      "text/plain": [
       "<matplotlib.figure.Figure at 0x7f430db943c8>"
      ]
     },
     "metadata": {},
     "output_type": "display_data"
    }
   ],
   "source": [
    "#2\n",
    "# TODO : rendre le truc plus dynamique\n",
    "n = 100\n",
    "nb_average = 10\n",
    "step = 300\n",
    "end_point = 10\n",
    "\n",
    "bcomp_size = [0 for i in range(step)]\n",
    "sec_size = [0 for i in range(step)]\n",
    "x = [0 for i in range(step)]\n",
    "for t in range(nb_average):\n",
    "    for i in range(step):\n",
    "        p = end_point * i / (step * n) \n",
    "        x[i] = n * p\n",
    "        G = er_np(n, p)\n",
    "        bcomp_size[i] += biggest_comp_size(G)\n",
    "        sec_size[i] += second_biggest_comp_size(G)\n",
    "bcomp_size = [x / nb_average for x in bcomp_size]\n",
    "sec_size = [x / nb_average for x in sec_size]\n",
    "\n",
    "plt.plot(x, bcomp_size)\n",
    "plt.plot(x, sec_size)\n",
    "\n",
    "vert_line_data = np.array([math.pow(n, 2/3) for i in range(2)])\n",
    "plt.plot([0,end_point] , vert_line_data, 'r--') \n",
    "\n",
    "plt.plot([1,1] , [0,n], 'r--') \n",
    "plt.plot( [0,end_point], [math.log(n, 2),math.log(n, 2)], 'r--') # log2 ou ln ??\n",
    "plt.plot( [math.log(n, 2),math.log(n, 2)], [0,n], 'r--') # log2 ou ln ??\n",
    "\n",
    "plt.show()"
   ]
  },
  {
   "cell_type": "code",
   "execution_count": 67,
   "metadata": {
    "collapsed": true
   },
   "outputs": [],
   "source": [
    "#3\n",
    "def degree_sequence_regular(n, k):\n",
    "    return [k for i in range(n)]\n",
    "\n",
    "def degree_sequence_lognormal(n, mu, sigma):\n",
    "    return [math.floor(random.lognormvariate(mu, sigma)) for i in range(n)]"
   ]
  },
  {
   "cell_type": "code",
   "execution_count": null,
   "metadata": {
    "collapsed": true
   },
   "outputs": [],
   "source": []
  }
 ],
 "metadata": {
  "kernelspec": {
   "display_name": "Python 3",
   "language": "python",
   "name": "python3"
  },
  "language_info": {
   "codemirror_mode": {
    "name": "ipython",
    "version": 3
   },
   "file_extension": ".py",
   "mimetype": "text/x-python",
   "name": "python",
   "nbconvert_exporter": "python",
   "pygments_lexer": "ipython3",
   "version": "3.5.1"
  }
 },
 "nbformat": 4,
 "nbformat_minor": 2
}
